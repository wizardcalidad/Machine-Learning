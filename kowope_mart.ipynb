{
 "cells": [
  {
   "cell_type": "markdown",
   "metadata": {
    "id": "yobfrLwbL8oU"
   },
   "source": [
    "The data is a structure dataset pull from the Kowope Mart’s database with few important features that can be used to predict defaulters in retail network. The data sample has been split into train and test with a volume of 56,000 and 24,000.\n",
    "\n",
    "Loading the train dataset first...separation of concerns."
   ]
  },
  {
   "cell_type": "code",
   "execution_count": 4,
   "metadata": {
    "executionInfo": {
     "elapsed": 3141,
     "status": "ok",
     "timestamp": 1601416885780,
     "user": {
      "displayName": "Yusuf Qoyum",
      "photoUrl": "https://lh3.googleusercontent.com/a-/AOh14GiyMZDHMA83WHyx74m-go4USTgeDx8VJc5EZNmqAA=s64",
      "userId": "07920877335192967897"
     },
     "user_tz": -60
    },
    "id": "HuClT8sdLzMw"
   },
   "outputs": [],
   "source": [
    "import numpy as np\n",
    "import pandas as pd\n",
    "import matplotlib.pyplot as plt\n",
    "import seaborn as sns\n",
    "import sklearn"
   ]
  },
  {
   "cell_type": "markdown",
   "metadata": {
    "id": "8XTKL802MFqF"
   },
   "source": [
    "Loading of our dataset in the notebook, the dataset was uploaded on google drive while the google drive was mounted on google colab for easy assessibility of the data."
   ]
  },
  {
   "cell_type": "code",
   "execution_count": 5,
   "metadata": {
    "executionInfo": {
     "elapsed": 7694,
     "status": "ok",
     "timestamp": 1601416890358,
     "user": {
      "displayName": "Yusuf Qoyum",
      "photoUrl": "https://lh3.googleusercontent.com/a-/AOh14GiyMZDHMA83WHyx74m-go4USTgeDx8VJc5EZNmqAA=s64",
      "userId": "07920877335192967897"
     },
     "user_tz": -60
    },
    "id": "MnVNWG2XKYQd"
   },
   "outputs": [],
   "source": [
    "we_test = pd.read_csv(\"Test.csv\")\n",
    "we_train = pd.read_csv(\"Train.csv\")"
   ]
  },
  {
   "cell_type": "code",
   "execution_count": 6,
   "metadata": {
    "colab": {
     "base_uri": "https://localhost:8080/",
     "height": 162
    },
    "executionInfo": {
     "elapsed": 7627,
     "status": "ok",
     "timestamp": 1601416890362,
     "user": {
      "displayName": "Yusuf Qoyum",
      "photoUrl": "https://lh3.googleusercontent.com/a-/AOh14GiyMZDHMA83WHyx74m-go4USTgeDx8VJc5EZNmqAA=s64",
      "userId": "07920877335192967897"
     },
     "user_tz": -60
    },
    "id": "gd9z_mmlMugF",
    "outputId": "0a69de05-38ac-416f-ff30-3d7d20e437f9"
   },
   "outputs": [
    {
     "data": {
      "text/html": [
       "<div>\n",
       "<style scoped>\n",
       "    .dataframe tbody tr th:only-of-type {\n",
       "        vertical-align: middle;\n",
       "    }\n",
       "\n",
       "    .dataframe tbody tr th {\n",
       "        vertical-align: top;\n",
       "    }\n",
       "\n",
       "    .dataframe thead th {\n",
       "        text-align: right;\n",
       "    }\n",
       "</style>\n",
       "<table border=\"1\" class=\"dataframe\">\n",
       "  <thead>\n",
       "    <tr style=\"text-align: right;\">\n",
       "      <th></th>\n",
       "      <th>Applicant_ID</th>\n",
       "      <th>form_field1</th>\n",
       "      <th>form_field2</th>\n",
       "      <th>form_field3</th>\n",
       "      <th>form_field4</th>\n",
       "      <th>form_field5</th>\n",
       "      <th>form_field6</th>\n",
       "      <th>form_field7</th>\n",
       "      <th>form_field8</th>\n",
       "      <th>form_field9</th>\n",
       "      <th>...</th>\n",
       "      <th>form_field41</th>\n",
       "      <th>form_field42</th>\n",
       "      <th>form_field43</th>\n",
       "      <th>form_field44</th>\n",
       "      <th>form_field45</th>\n",
       "      <th>form_field46</th>\n",
       "      <th>form_field47</th>\n",
       "      <th>form_field48</th>\n",
       "      <th>form_field49</th>\n",
       "      <th>form_field50</th>\n",
       "    </tr>\n",
       "  </thead>\n",
       "  <tbody>\n",
       "    <tr>\n",
       "      <th>0</th>\n",
       "      <td>Apcnt_1000032</td>\n",
       "      <td>3236.0</td>\n",
       "      <td>0.34875</td>\n",
       "      <td>10.2006</td>\n",
       "      <td>0.0000</td>\n",
       "      <td>0.0</td>\n",
       "      <td>418564.0</td>\n",
       "      <td>418564.0</td>\n",
       "      <td>418564.0</td>\n",
       "      <td>540710.0</td>\n",
       "      <td>...</td>\n",
       "      <td>NaN</td>\n",
       "      <td>0.825000</td>\n",
       "      <td>1.01</td>\n",
       "      <td>0.800000</td>\n",
       "      <td>NaN</td>\n",
       "      <td>0.0</td>\n",
       "      <td>charge</td>\n",
       "      <td>NaN</td>\n",
       "      <td>0.000000</td>\n",
       "      <td>0.011221</td>\n",
       "    </tr>\n",
       "    <tr>\n",
       "      <th>1</th>\n",
       "      <td>Apcnt_1000048</td>\n",
       "      <td>3284.0</td>\n",
       "      <td>1.27360</td>\n",
       "      <td>2.9606</td>\n",
       "      <td>9.0198</td>\n",
       "      <td>0.0</td>\n",
       "      <td>0.0</td>\n",
       "      <td>9858816.0</td>\n",
       "      <td>49014.0</td>\n",
       "      <td>1510098.0</td>\n",
       "      <td>...</td>\n",
       "      <td>18.8415</td>\n",
       "      <td>0.507694</td>\n",
       "      <td>4.04</td>\n",
       "      <td>0.623248</td>\n",
       "      <td>1.0</td>\n",
       "      <td>0.0</td>\n",
       "      <td>lending</td>\n",
       "      <td>NaN</td>\n",
       "      <td>0.504974</td>\n",
       "      <td>0.043525</td>\n",
       "    </tr>\n",
       "    <tr>\n",
       "      <th>2</th>\n",
       "      <td>Apcnt_1000052</td>\n",
       "      <td>NaN</td>\n",
       "      <td>0.27505</td>\n",
       "      <td>0.0600</td>\n",
       "      <td>0.0000</td>\n",
       "      <td>0.0</td>\n",
       "      <td>NaN</td>\n",
       "      <td>NaN</td>\n",
       "      <td>NaN</td>\n",
       "      <td>NaN</td>\n",
       "      <td>...</td>\n",
       "      <td>NaN</td>\n",
       "      <td>NaN</td>\n",
       "      <td>0.00</td>\n",
       "      <td>NaN</td>\n",
       "      <td>NaN</td>\n",
       "      <td>NaN</td>\n",
       "      <td>charge</td>\n",
       "      <td>NaN</td>\n",
       "      <td>0.000000</td>\n",
       "      <td>NaN</td>\n",
       "    </tr>\n",
       "  </tbody>\n",
       "</table>\n",
       "<p>3 rows × 51 columns</p>\n",
       "</div>"
      ],
      "text/plain": [
       "    Applicant_ID  form_field1  form_field2  form_field3  form_field4  \\\n",
       "0  Apcnt_1000032       3236.0      0.34875      10.2006       0.0000   \n",
       "1  Apcnt_1000048       3284.0      1.27360       2.9606       9.0198   \n",
       "2  Apcnt_1000052          NaN      0.27505       0.0600       0.0000   \n",
       "\n",
       "   form_field5  form_field6  form_field7  form_field8  form_field9  ...  \\\n",
       "0          0.0     418564.0     418564.0     418564.0     540710.0  ...   \n",
       "1          0.0          0.0    9858816.0      49014.0    1510098.0  ...   \n",
       "2          0.0          NaN          NaN          NaN          NaN  ...   \n",
       "\n",
       "   form_field41  form_field42  form_field43  form_field44  form_field45  \\\n",
       "0           NaN      0.825000          1.01      0.800000           NaN   \n",
       "1       18.8415      0.507694          4.04      0.623248           1.0   \n",
       "2           NaN           NaN          0.00           NaN           NaN   \n",
       "\n",
       "   form_field46  form_field47  form_field48  form_field49  form_field50  \n",
       "0           0.0        charge           NaN      0.000000      0.011221  \n",
       "1           0.0       lending           NaN      0.504974      0.043525  \n",
       "2           NaN        charge           NaN      0.000000           NaN  \n",
       "\n",
       "[3 rows x 51 columns]"
      ]
     },
     "execution_count": 6,
     "metadata": {},
     "output_type": "execute_result"
    }
   ],
   "source": [
    "we_test.head(3)"
   ]
  },
  {
   "cell_type": "code",
   "execution_count": 7,
   "metadata": {
    "colab": {
     "base_uri": "https://localhost:8080/",
     "height": 35
    },
    "executionInfo": {
     "elapsed": 7595,
     "status": "ok",
     "timestamp": 1601416890363,
     "user": {
      "displayName": "Yusuf Qoyum",
      "photoUrl": "https://lh3.googleusercontent.com/a-/AOh14GiyMZDHMA83WHyx74m-go4USTgeDx8VJc5EZNmqAA=s64",
      "userId": "07920877335192967897"
     },
     "user_tz": -60
    },
    "id": "bpkany8QM0B2",
    "outputId": "c0318906-3c83-478e-e9cd-dd19bc6f4179"
   },
   "outputs": [
    {
     "data": {
      "text/plain": [
       "(24000, 51)"
      ]
     },
     "execution_count": 7,
     "metadata": {},
     "output_type": "execute_result"
    }
   ],
   "source": [
    "we_test.shape"
   ]
  },
  {
   "cell_type": "code",
   "execution_count": 8,
   "metadata": {
    "colab": {
     "base_uri": "https://localhost:8080/",
     "height": 162
    },
    "executionInfo": {
     "elapsed": 7575,
     "status": "ok",
     "timestamp": 1601416890367,
     "user": {
      "displayName": "Yusuf Qoyum",
      "photoUrl": "https://lh3.googleusercontent.com/a-/AOh14GiyMZDHMA83WHyx74m-go4USTgeDx8VJc5EZNmqAA=s64",
      "userId": "07920877335192967897"
     },
     "user_tz": -60
    },
    "id": "Llu6dSjRM2dH",
    "outputId": "fe0c5d94-7067-4710-c9a1-ddef2fd48720"
   },
   "outputs": [
    {
     "data": {
      "text/html": [
       "<div>\n",
       "<style scoped>\n",
       "    .dataframe tbody tr th:only-of-type {\n",
       "        vertical-align: middle;\n",
       "    }\n",
       "\n",
       "    .dataframe tbody tr th {\n",
       "        vertical-align: top;\n",
       "    }\n",
       "\n",
       "    .dataframe thead th {\n",
       "        text-align: right;\n",
       "    }\n",
       "</style>\n",
       "<table border=\"1\" class=\"dataframe\">\n",
       "  <thead>\n",
       "    <tr style=\"text-align: right;\">\n",
       "      <th></th>\n",
       "      <th>Applicant_ID</th>\n",
       "      <th>form_field1</th>\n",
       "      <th>form_field2</th>\n",
       "      <th>form_field3</th>\n",
       "      <th>form_field4</th>\n",
       "      <th>form_field5</th>\n",
       "      <th>form_field6</th>\n",
       "      <th>form_field7</th>\n",
       "      <th>form_field8</th>\n",
       "      <th>form_field9</th>\n",
       "      <th>...</th>\n",
       "      <th>form_field42</th>\n",
       "      <th>form_field43</th>\n",
       "      <th>form_field44</th>\n",
       "      <th>form_field45</th>\n",
       "      <th>form_field46</th>\n",
       "      <th>form_field47</th>\n",
       "      <th>form_field48</th>\n",
       "      <th>form_field49</th>\n",
       "      <th>form_field50</th>\n",
       "      <th>default_status</th>\n",
       "    </tr>\n",
       "  </thead>\n",
       "  <tbody>\n",
       "    <tr>\n",
       "      <th>0</th>\n",
       "      <td>Apcnt_1000000</td>\n",
       "      <td>3436.0</td>\n",
       "      <td>0.28505</td>\n",
       "      <td>1.6560</td>\n",
       "      <td>0.0</td>\n",
       "      <td>0.000</td>\n",
       "      <td>0.0</td>\n",
       "      <td>10689720.0</td>\n",
       "      <td>252072.0</td>\n",
       "      <td>4272776.0</td>\n",
       "      <td>...</td>\n",
       "      <td>0.392854</td>\n",
       "      <td>2.02</td>\n",
       "      <td>0.711632</td>\n",
       "      <td>0.0</td>\n",
       "      <td>0.0</td>\n",
       "      <td>charge</td>\n",
       "      <td>NaN</td>\n",
       "      <td>1.129518</td>\n",
       "      <td>0.044335</td>\n",
       "      <td>no</td>\n",
       "    </tr>\n",
       "    <tr>\n",
       "      <th>1</th>\n",
       "      <td>Apcnt_1000004</td>\n",
       "      <td>3456.0</td>\n",
       "      <td>0.67400</td>\n",
       "      <td>0.2342</td>\n",
       "      <td>0.0</td>\n",
       "      <td>0.000</td>\n",
       "      <td>0.0</td>\n",
       "      <td>898979.0</td>\n",
       "      <td>497531.0</td>\n",
       "      <td>9073814.0</td>\n",
       "      <td>...</td>\n",
       "      <td>0.314281</td>\n",
       "      <td>8.08</td>\n",
       "      <td>0.183584</td>\n",
       "      <td>NaN</td>\n",
       "      <td>0.0</td>\n",
       "      <td>charge</td>\n",
       "      <td>349.80573</td>\n",
       "      <td>1.620483</td>\n",
       "      <td>0.322436</td>\n",
       "      <td>no</td>\n",
       "    </tr>\n",
       "    <tr>\n",
       "      <th>2</th>\n",
       "      <td>Apcnt_1000008</td>\n",
       "      <td>3276.0</td>\n",
       "      <td>0.53845</td>\n",
       "      <td>3.1510</td>\n",
       "      <td>0.0</td>\n",
       "      <td>6.282</td>\n",
       "      <td>NaN</td>\n",
       "      <td>956940.0</td>\n",
       "      <td>NaN</td>\n",
       "      <td>192944.0</td>\n",
       "      <td>...</td>\n",
       "      <td>0.162965</td>\n",
       "      <td>18.18</td>\n",
       "      <td>0.791136</td>\n",
       "      <td>0.0</td>\n",
       "      <td>0.0</td>\n",
       "      <td>charge</td>\n",
       "      <td>NaN</td>\n",
       "      <td>1.513370</td>\n",
       "      <td>0.011640</td>\n",
       "      <td>yes</td>\n",
       "    </tr>\n",
       "  </tbody>\n",
       "</table>\n",
       "<p>3 rows × 52 columns</p>\n",
       "</div>"
      ],
      "text/plain": [
       "    Applicant_ID  form_field1  form_field2  form_field3  form_field4  \\\n",
       "0  Apcnt_1000000       3436.0      0.28505       1.6560          0.0   \n",
       "1  Apcnt_1000004       3456.0      0.67400       0.2342          0.0   \n",
       "2  Apcnt_1000008       3276.0      0.53845       3.1510          0.0   \n",
       "\n",
       "   form_field5  form_field6  form_field7  form_field8  form_field9  ...  \\\n",
       "0        0.000          0.0   10689720.0     252072.0    4272776.0  ...   \n",
       "1        0.000          0.0     898979.0     497531.0    9073814.0  ...   \n",
       "2        6.282          NaN     956940.0          NaN     192944.0  ...   \n",
       "\n",
       "   form_field42  form_field43  form_field44  form_field45  form_field46  \\\n",
       "0      0.392854          2.02      0.711632           0.0           0.0   \n",
       "1      0.314281          8.08      0.183584           NaN           0.0   \n",
       "2      0.162965         18.18      0.791136           0.0           0.0   \n",
       "\n",
       "   form_field47  form_field48  form_field49  form_field50  default_status  \n",
       "0        charge           NaN      1.129518      0.044335              no  \n",
       "1        charge     349.80573      1.620483      0.322436              no  \n",
       "2        charge           NaN      1.513370      0.011640             yes  \n",
       "\n",
       "[3 rows x 52 columns]"
      ]
     },
     "execution_count": 8,
     "metadata": {},
     "output_type": "execute_result"
    }
   ],
   "source": [
    "we_train.head(3)"
   ]
  },
  {
   "cell_type": "code",
   "execution_count": 9,
   "metadata": {
    "colab": {
     "base_uri": "https://localhost:8080/",
     "height": 35
    },
    "executionInfo": {
     "elapsed": 7551,
     "status": "ok",
     "timestamp": 1601416890369,
     "user": {
      "displayName": "Yusuf Qoyum",
      "photoUrl": "https://lh3.googleusercontent.com/a-/AOh14GiyMZDHMA83WHyx74m-go4USTgeDx8VJc5EZNmqAA=s64",
      "userId": "07920877335192967897"
     },
     "user_tz": -60
    },
    "id": "rITf4jJCM8eU",
    "outputId": "58ffde8b-fd10-4513-e997-4084c76391fb"
   },
   "outputs": [
    {
     "data": {
      "text/plain": [
       "(56000, 52)"
      ]
     },
     "execution_count": 9,
     "metadata": {},
     "output_type": "execute_result"
    }
   ],
   "source": [
    "we_train.shape"
   ]
  },
  {
   "cell_type": "markdown",
   "metadata": {
    "id": "AaSH3TYSNU8l"
   },
   "source": [
    "Up there we can see that the test dataset has 24000 rows and 51 columns while the train dataset has 56000 rows and 52columns."
   ]
  },
  {
   "cell_type": "markdown",
   "metadata": {
    "id": "uNUbqnFGOK-o"
   },
   "source": [
    "**We will start our analysis by wokring with train and test dataset simultaneously but priority at this cleaning stage will be towards train dataset has it is the most important of the two for the loan prediction**"
   ]
  },
  {
   "cell_type": "markdown",
   "metadata": {
    "id": "Ey0BVh1BNy_R"
   },
   "source": [
    "Since no one will ever be considered for loan because of their application_ID, it's rather not so useful for the prediction model, hence we will have to drop it."
   ]
  },
  {
   "cell_type": "code",
   "execution_count": 10,
   "metadata": {
    "colab": {
     "base_uri": "https://localhost:8080/",
     "height": 162
    },
    "executionInfo": {
     "elapsed": 7528,
     "status": "ok",
     "timestamp": 1601416890370,
     "user": {
      "displayName": "Yusuf Qoyum",
      "photoUrl": "https://lh3.googleusercontent.com/a-/AOh14GiyMZDHMA83WHyx74m-go4USTgeDx8VJc5EZNmqAA=s64",
      "userId": "07920877335192967897"
     },
     "user_tz": -60
    },
    "id": "o46jClCVM_IO",
    "outputId": "9068ff4b-dde6-45f0-9a3a-ff2717f0e769"
   },
   "outputs": [
    {
     "data": {
      "text/html": [
       "<div>\n",
       "<style scoped>\n",
       "    .dataframe tbody tr th:only-of-type {\n",
       "        vertical-align: middle;\n",
       "    }\n",
       "\n",
       "    .dataframe tbody tr th {\n",
       "        vertical-align: top;\n",
       "    }\n",
       "\n",
       "    .dataframe thead th {\n",
       "        text-align: right;\n",
       "    }\n",
       "</style>\n",
       "<table border=\"1\" class=\"dataframe\">\n",
       "  <thead>\n",
       "    <tr style=\"text-align: right;\">\n",
       "      <th></th>\n",
       "      <th>Applicant_ID</th>\n",
       "      <th>form_field1</th>\n",
       "      <th>form_field2</th>\n",
       "      <th>form_field3</th>\n",
       "      <th>form_field4</th>\n",
       "      <th>form_field5</th>\n",
       "      <th>form_field6</th>\n",
       "      <th>form_field7</th>\n",
       "      <th>form_field8</th>\n",
       "      <th>form_field9</th>\n",
       "      <th>...</th>\n",
       "      <th>form_field42</th>\n",
       "      <th>form_field43</th>\n",
       "      <th>form_field44</th>\n",
       "      <th>form_field45</th>\n",
       "      <th>form_field46</th>\n",
       "      <th>form_field47</th>\n",
       "      <th>form_field48</th>\n",
       "      <th>form_field49</th>\n",
       "      <th>form_field50</th>\n",
       "      <th>default_status</th>\n",
       "    </tr>\n",
       "  </thead>\n",
       "  <tbody>\n",
       "    <tr>\n",
       "      <th>0</th>\n",
       "      <td>Apcnt_1000000</td>\n",
       "      <td>3436.0</td>\n",
       "      <td>0.28505</td>\n",
       "      <td>1.6560</td>\n",
       "      <td>0.0</td>\n",
       "      <td>0.000</td>\n",
       "      <td>0.0</td>\n",
       "      <td>10689720.0</td>\n",
       "      <td>252072.0</td>\n",
       "      <td>4272776.0</td>\n",
       "      <td>...</td>\n",
       "      <td>0.392854</td>\n",
       "      <td>2.02</td>\n",
       "      <td>0.711632</td>\n",
       "      <td>0.0</td>\n",
       "      <td>0.0</td>\n",
       "      <td>charge</td>\n",
       "      <td>NaN</td>\n",
       "      <td>1.129518</td>\n",
       "      <td>0.044335</td>\n",
       "      <td>no</td>\n",
       "    </tr>\n",
       "    <tr>\n",
       "      <th>1</th>\n",
       "      <td>Apcnt_1000004</td>\n",
       "      <td>3456.0</td>\n",
       "      <td>0.67400</td>\n",
       "      <td>0.2342</td>\n",
       "      <td>0.0</td>\n",
       "      <td>0.000</td>\n",
       "      <td>0.0</td>\n",
       "      <td>898979.0</td>\n",
       "      <td>497531.0</td>\n",
       "      <td>9073814.0</td>\n",
       "      <td>...</td>\n",
       "      <td>0.314281</td>\n",
       "      <td>8.08</td>\n",
       "      <td>0.183584</td>\n",
       "      <td>NaN</td>\n",
       "      <td>0.0</td>\n",
       "      <td>charge</td>\n",
       "      <td>349.80573</td>\n",
       "      <td>1.620483</td>\n",
       "      <td>0.322436</td>\n",
       "      <td>no</td>\n",
       "    </tr>\n",
       "    <tr>\n",
       "      <th>2</th>\n",
       "      <td>Apcnt_1000008</td>\n",
       "      <td>3276.0</td>\n",
       "      <td>0.53845</td>\n",
       "      <td>3.1510</td>\n",
       "      <td>0.0</td>\n",
       "      <td>6.282</td>\n",
       "      <td>NaN</td>\n",
       "      <td>956940.0</td>\n",
       "      <td>NaN</td>\n",
       "      <td>192944.0</td>\n",
       "      <td>...</td>\n",
       "      <td>0.162965</td>\n",
       "      <td>18.18</td>\n",
       "      <td>0.791136</td>\n",
       "      <td>0.0</td>\n",
       "      <td>0.0</td>\n",
       "      <td>charge</td>\n",
       "      <td>NaN</td>\n",
       "      <td>1.513370</td>\n",
       "      <td>0.011640</td>\n",
       "      <td>yes</td>\n",
       "    </tr>\n",
       "  </tbody>\n",
       "</table>\n",
       "<p>3 rows × 52 columns</p>\n",
       "</div>"
      ],
      "text/plain": [
       "    Applicant_ID  form_field1  form_field2  form_field3  form_field4  \\\n",
       "0  Apcnt_1000000       3436.0      0.28505       1.6560          0.0   \n",
       "1  Apcnt_1000004       3456.0      0.67400       0.2342          0.0   \n",
       "2  Apcnt_1000008       3276.0      0.53845       3.1510          0.0   \n",
       "\n",
       "   form_field5  form_field6  form_field7  form_field8  form_field9  ...  \\\n",
       "0        0.000          0.0   10689720.0     252072.0    4272776.0  ...   \n",
       "1        0.000          0.0     898979.0     497531.0    9073814.0  ...   \n",
       "2        6.282          NaN     956940.0          NaN     192944.0  ...   \n",
       "\n",
       "   form_field42  form_field43  form_field44  form_field45  form_field46  \\\n",
       "0      0.392854          2.02      0.711632           0.0           0.0   \n",
       "1      0.314281          8.08      0.183584           NaN           0.0   \n",
       "2      0.162965         18.18      0.791136           0.0           0.0   \n",
       "\n",
       "   form_field47  form_field48  form_field49  form_field50  default_status  \n",
       "0        charge           NaN      1.129518      0.044335              no  \n",
       "1        charge     349.80573      1.620483      0.322436              no  \n",
       "2        charge           NaN      1.513370      0.011640             yes  \n",
       "\n",
       "[3 rows x 52 columns]"
      ]
     },
     "execution_count": 10,
     "metadata": {},
     "output_type": "execute_result"
    }
   ],
   "source": [
    "we_train.head(3)"
   ]
  },
  {
   "cell_type": "code",
   "execution_count": 11,
   "metadata": {
    "colab": {
     "base_uri": "https://localhost:8080/",
     "height": 162
    },
    "executionInfo": {
     "elapsed": 8640,
     "status": "ok",
     "timestamp": 1601416891527,
     "user": {
      "displayName": "Yusuf Qoyum",
      "photoUrl": "https://lh3.googleusercontent.com/a-/AOh14GiyMZDHMA83WHyx74m-go4USTgeDx8VJc5EZNmqAA=s64",
      "userId": "07920877335192967897"
     },
     "user_tz": -60
    },
    "id": "TCv6oDvWRgZs",
    "outputId": "39e9d859-bc1c-4d7e-b84f-afed1834e6ef"
   },
   "outputs": [
    {
     "data": {
      "text/html": [
       "<div>\n",
       "<style scoped>\n",
       "    .dataframe tbody tr th:only-of-type {\n",
       "        vertical-align: middle;\n",
       "    }\n",
       "\n",
       "    .dataframe tbody tr th {\n",
       "        vertical-align: top;\n",
       "    }\n",
       "\n",
       "    .dataframe thead th {\n",
       "        text-align: right;\n",
       "    }\n",
       "</style>\n",
       "<table border=\"1\" class=\"dataframe\">\n",
       "  <thead>\n",
       "    <tr style=\"text-align: right;\">\n",
       "      <th></th>\n",
       "      <th>Applicant_ID</th>\n",
       "      <th>form_field1</th>\n",
       "      <th>form_field2</th>\n",
       "      <th>form_field3</th>\n",
       "      <th>form_field4</th>\n",
       "      <th>form_field5</th>\n",
       "      <th>form_field6</th>\n",
       "      <th>form_field7</th>\n",
       "      <th>form_field8</th>\n",
       "      <th>form_field9</th>\n",
       "      <th>...</th>\n",
       "      <th>form_field41</th>\n",
       "      <th>form_field42</th>\n",
       "      <th>form_field43</th>\n",
       "      <th>form_field44</th>\n",
       "      <th>form_field45</th>\n",
       "      <th>form_field46</th>\n",
       "      <th>form_field47</th>\n",
       "      <th>form_field48</th>\n",
       "      <th>form_field49</th>\n",
       "      <th>form_field50</th>\n",
       "    </tr>\n",
       "  </thead>\n",
       "  <tbody>\n",
       "    <tr>\n",
       "      <th>0</th>\n",
       "      <td>Apcnt_1000032</td>\n",
       "      <td>3236.0</td>\n",
       "      <td>0.34875</td>\n",
       "      <td>10.2006</td>\n",
       "      <td>0.0000</td>\n",
       "      <td>0.0</td>\n",
       "      <td>418564.0</td>\n",
       "      <td>418564.0</td>\n",
       "      <td>418564.0</td>\n",
       "      <td>540710.0</td>\n",
       "      <td>...</td>\n",
       "      <td>NaN</td>\n",
       "      <td>0.825000</td>\n",
       "      <td>1.01</td>\n",
       "      <td>0.800000</td>\n",
       "      <td>NaN</td>\n",
       "      <td>0.0</td>\n",
       "      <td>charge</td>\n",
       "      <td>NaN</td>\n",
       "      <td>0.000000</td>\n",
       "      <td>0.011221</td>\n",
       "    </tr>\n",
       "    <tr>\n",
       "      <th>1</th>\n",
       "      <td>Apcnt_1000048</td>\n",
       "      <td>3284.0</td>\n",
       "      <td>1.27360</td>\n",
       "      <td>2.9606</td>\n",
       "      <td>9.0198</td>\n",
       "      <td>0.0</td>\n",
       "      <td>0.0</td>\n",
       "      <td>9858816.0</td>\n",
       "      <td>49014.0</td>\n",
       "      <td>1510098.0</td>\n",
       "      <td>...</td>\n",
       "      <td>18.8415</td>\n",
       "      <td>0.507694</td>\n",
       "      <td>4.04</td>\n",
       "      <td>0.623248</td>\n",
       "      <td>1.0</td>\n",
       "      <td>0.0</td>\n",
       "      <td>lending</td>\n",
       "      <td>NaN</td>\n",
       "      <td>0.504974</td>\n",
       "      <td>0.043525</td>\n",
       "    </tr>\n",
       "    <tr>\n",
       "      <th>2</th>\n",
       "      <td>Apcnt_1000052</td>\n",
       "      <td>NaN</td>\n",
       "      <td>0.27505</td>\n",
       "      <td>0.0600</td>\n",
       "      <td>0.0000</td>\n",
       "      <td>0.0</td>\n",
       "      <td>NaN</td>\n",
       "      <td>NaN</td>\n",
       "      <td>NaN</td>\n",
       "      <td>NaN</td>\n",
       "      <td>...</td>\n",
       "      <td>NaN</td>\n",
       "      <td>NaN</td>\n",
       "      <td>0.00</td>\n",
       "      <td>NaN</td>\n",
       "      <td>NaN</td>\n",
       "      <td>NaN</td>\n",
       "      <td>charge</td>\n",
       "      <td>NaN</td>\n",
       "      <td>0.000000</td>\n",
       "      <td>NaN</td>\n",
       "    </tr>\n",
       "  </tbody>\n",
       "</table>\n",
       "<p>3 rows × 51 columns</p>\n",
       "</div>"
      ],
      "text/plain": [
       "    Applicant_ID  form_field1  form_field2  form_field3  form_field4  \\\n",
       "0  Apcnt_1000032       3236.0      0.34875      10.2006       0.0000   \n",
       "1  Apcnt_1000048       3284.0      1.27360       2.9606       9.0198   \n",
       "2  Apcnt_1000052          NaN      0.27505       0.0600       0.0000   \n",
       "\n",
       "   form_field5  form_field6  form_field7  form_field8  form_field9  ...  \\\n",
       "0          0.0     418564.0     418564.0     418564.0     540710.0  ...   \n",
       "1          0.0          0.0    9858816.0      49014.0    1510098.0  ...   \n",
       "2          0.0          NaN          NaN          NaN          NaN  ...   \n",
       "\n",
       "   form_field41  form_field42  form_field43  form_field44  form_field45  \\\n",
       "0           NaN      0.825000          1.01      0.800000           NaN   \n",
       "1       18.8415      0.507694          4.04      0.623248           1.0   \n",
       "2           NaN           NaN          0.00           NaN           NaN   \n",
       "\n",
       "   form_field46  form_field47  form_field48  form_field49  form_field50  \n",
       "0           0.0        charge           NaN      0.000000      0.011221  \n",
       "1           0.0       lending           NaN      0.504974      0.043525  \n",
       "2           NaN        charge           NaN      0.000000           NaN  \n",
       "\n",
       "[3 rows x 51 columns]"
      ]
     },
     "execution_count": 11,
     "metadata": {},
     "output_type": "execute_result"
    }
   ],
   "source": [
    "we_test.head(3)"
   ]
  },
  {
   "cell_type": "code",
   "execution_count": 12,
   "metadata": {
    "colab": {
     "base_uri": "https://localhost:8080/",
     "height": 293
    },
    "executionInfo": {
     "elapsed": 8617,
     "status": "ok",
     "timestamp": 1601416891529,
     "user": {
      "displayName": "Yusuf Qoyum",
      "photoUrl": "https://lh3.googleusercontent.com/a-/AOh14GiyMZDHMA83WHyx74m-go4USTgeDx8VJc5EZNmqAA=s64",
      "userId": "07920877335192967897"
     },
     "user_tz": -60
    },
    "id": "6OO-FS5gQvz2",
    "outputId": "428621f4-659a-4c43-eeba-bc7fc111383d"
   },
   "outputs": [
    {
     "data": {
      "image/png": "[encoded data removed]",
      "text/plain": [
       "<Figure size 432x288 with 1 Axes>"
      ]
     },
     "metadata": {
      "needs_background": "light"
     },
     "output_type": "display_data"
    }
   ],
   "source": [
    "pp = pd.value_counts(we_train.dtypes)\n",
    "pp.plot.bar()\n",
    "plt.show()"
   ]
  },
  {
   "cell_type": "code",
   "execution_count": 13,
   "metadata": {
    "colab": {
     "base_uri": "https://localhost:8080/",
     "height": 293
    },
    "executionInfo": {
     "elapsed": 8590,
     "status": "ok",
     "timestamp": 1601416891530,
     "user": {
      "displayName": "Yusuf Qoyum",
      "photoUrl": "https://lh3.googleusercontent.com/a-/AOh14GiyMZDHMA83WHyx74m-go4USTgeDx8VJc5EZNmqAA=s64",
      "userId": "07920877335192967897"
     },
     "user_tz": -60
    },
    "id": "MjvlIvXOQ7rR",
    "outputId": "377d0bb2-1c7b-4842-96a7-d78bf8eacb7c"
   },
   "outputs": [
    {
     "data": {
      "image/png": "[encoded data removed]",
      "text/plain": [
       "<Figure size 432x288 with 1 Axes>"
      ]
     },
     "metadata": {
      "needs_background": "light"
     },
     "output_type": "display_data"
    }
   ],
   "source": [
    "pp = pd.value_counts(we_test.dtypes)\n",
    "pp.plot.bar()\n",
    "plt.show()"
   ]
  },
  {
   "cell_type": "markdown",
   "metadata": {
    "id": "JUpa77amUKwz"
   },
   "source": [
    "Trying to check out for the missing values and non-appearances in both the test and train datasets."
   ]
  },
  {
   "cell_type": "code",
   "execution_count": 14,
   "metadata": {
    "colab": {
     "base_uri": "https://localhost:8080/",
     "height": 971
    },
    "executionInfo": {
     "elapsed": 8556,
     "status": "ok",
     "timestamp": 1601416891531,
     "user": {
      "displayName": "Yusuf Qoyum",
      "photoUrl": "https://lh3.googleusercontent.com/a-/AOh14GiyMZDHMA83WHyx74m-go4USTgeDx8VJc5EZNmqAA=s64",
      "userId": "07920877335192967897"
     },
     "user_tz": -60
    },
    "id": "2eGFo8jxRx7M",
    "outputId": "ad9b52a4-aed0-4e9e-8039-e13ae5a7fd96"
   },
   "outputs": [
    {
     "data": {
      "text/plain": [
       "Applicant_ID          0\n",
       "form_field1        2529\n",
       "form_field2        3844\n",
       "form_field3         355\n",
       "form_field4         355\n",
       "form_field5         355\n",
       "form_field6       13360\n",
       "form_field7        5163\n",
       "form_field8       13360\n",
       "form_field9        8008\n",
       "form_field10        355\n",
       "form_field11      31421\n",
       "form_field12       9895\n",
       "form_field13       5889\n",
       "form_field14          0\n",
       "form_field15      22475\n",
       "form_field16      13036\n",
       "form_field17      11151\n",
       "form_field18      10402\n",
       "form_field19          4\n",
       "form_field20        355\n",
       "form_field21      15854\n",
       "form_field22      20400\n",
       "form_field23      28123\n",
       "form_field24      13297\n",
       "form_field25       5450\n",
       "form_field26       7438\n",
       "form_field27       9299\n",
       "form_field28        355\n",
       "form_field29        355\n",
       "form_field30      25509\n",
       "form_field31      39408\n",
       "form_field32       5450\n",
       "form_field33       1256\n",
       "form_field34        355\n",
       "form_field35      23148\n",
       "form_field36       1995\n",
       "form_field37       5450\n",
       "form_field38        355\n",
       "form_field39       4211\n",
       "form_field40      43729\n",
       "form_field41      38229\n",
       "form_field42       1323\n",
       "form_field43        568\n",
       "form_field44       5383\n",
       "form_field45      31317\n",
       "form_field46      15904\n",
       "form_field47          0\n",
       "form_field48      20889\n",
       "form_field49        355\n",
       "form_field50      11056\n",
       "default_status        0\n",
       "dtype: int64"
      ]
     },
     "execution_count": 14,
     "metadata": {},
     "output_type": "execute_result"
    }
   ],
   "source": [
    "we_train.isna().sum()"
   ]
  },
  {
   "cell_type": "code",
   "execution_count": 15,
   "metadata": {
    "colab": {
     "base_uri": "https://localhost:8080/",
     "height": 953
    },
    "executionInfo": {
     "elapsed": 8531,
     "status": "ok",
     "timestamp": 1601416891533,
     "user": {
      "displayName": "Yusuf Qoyum",
      "photoUrl": "https://lh3.googleusercontent.com/a-/AOh14GiyMZDHMA83WHyx74m-go4USTgeDx8VJc5EZNmqAA=s64",
      "userId": "07920877335192967897"
     },
     "user_tz": -60
    },
    "id": "rWkr522MS-lP",
    "outputId": "9c930f74-ae46-466c-c8e4-029e27eb6261"
   },
   "outputs": [
    {
     "data": {
      "text/plain": [
       "Applicant_ID        0\n",
       "form_field1      1110\n",
       "form_field2      1709\n",
       "form_field3       146\n",
       "form_field4       146\n",
       "form_field5       146\n",
       "form_field6      5604\n",
       "form_field7      2231\n",
       "form_field8      5604\n",
       "form_field9      3400\n",
       "form_field10      147\n",
       "form_field11    13398\n",
       "form_field12     4183\n",
       "form_field13     2463\n",
       "form_field14        0\n",
       "form_field15     9592\n",
       "form_field16     5474\n",
       "form_field17     4695\n",
       "form_field18     4369\n",
       "form_field19        0\n",
       "form_field20      147\n",
       "form_field21     6707\n",
       "form_field22     8724\n",
       "form_field23    12125\n",
       "form_field24     5605\n",
       "form_field25     2256\n",
       "form_field26     3172\n",
       "form_field27     3910\n",
       "form_field28      147\n",
       "form_field29      147\n",
       "form_field30    10908\n",
       "form_field31    16810\n",
       "form_field32     2256\n",
       "form_field33      495\n",
       "form_field34      147\n",
       "form_field35     9866\n",
       "form_field36      903\n",
       "form_field37     2256\n",
       "form_field38      147\n",
       "form_field39     1829\n",
       "form_field40    18828\n",
       "form_field41    16349\n",
       "form_field42      578\n",
       "form_field43      250\n",
       "form_field44     2362\n",
       "form_field45    13538\n",
       "form_field46     6885\n",
       "form_field47        0\n",
       "form_field48     8922\n",
       "form_field49      146\n",
       "form_field50     4797\n",
       "dtype: int64"
      ]
     },
     "execution_count": 15,
     "metadata": {},
     "output_type": "execute_result"
    }
   ],
   "source": [
    "we_test.isna().sum()"
   ]
  },
  {
   "cell_type": "markdown",
   "metadata": {
    "id": "Ig5ssrGLUcJ_"
   },
   "source": [
    "To a reasonable extent, dropping the columns involving the missing values will destroy our dataset and make our model perform very poorly, hence, we will rather fill the columns with medians for numerical datasets and mode for the categorical variables.\n",
    "\n",
    "Therefore, a function is written to satisfy this motive even thoug their is an sklearn function that does it with a one or two liners."
   ]
  },
  {
   "cell_type": "code",
   "execution_count": 16,
   "metadata": {
    "executionInfo": {
     "elapsed": 8526,
     "status": "ok",
     "timestamp": 1601416891534,
     "user": {
      "displayName": "Yusuf Qoyum",
      "photoUrl": "https://lh3.googleusercontent.com/a-/AOh14GiyMZDHMA83WHyx74m-go4USTgeDx8VJc5EZNmqAA=s64",
      "userId": "07920877335192967897"
     },
     "user_tz": -60
    },
    "id": "CK_DIgZaS0ui"
   },
   "outputs": [],
   "source": [
    "def fillna(df:pd.DataFrame) -> pd.DataFrame:\n",
    "\n",
    "  num_cols=df.select_dtypes(include=['float64', 'int64']).columns.to_list()\n",
    "  print(len(num_cols))\n",
    "  obj_cols=df.select_dtypes(include=['object']).columns.to_list()\n",
    "\n",
    "  for col in num_cols:\n",
    "    if col == 'default_status':\n",
    "      pass\n",
    "    median = df[col].median() \n",
    "    df[col] = df[col].fillna(median)\n",
    "\n",
    "\n",
    "  for col in obj_cols:\n",
    "    if col == 'default_status':\n",
    "      pass\n",
    "    mode = df[col].mode()\n",
    "    df[col] = df[col].fillna(mode)\n",
    "\n",
    "\n",
    "  return df"
   ]
  },
  {
   "cell_type": "code",
   "execution_count": 17,
   "metadata": {
    "colab": {
     "base_uri": "https://localhost:8080/",
     "height": 53
    },
    "executionInfo": {
     "elapsed": 8499,
     "status": "ok",
     "timestamp": 1601416891535,
     "user": {
      "displayName": "Yusuf Qoyum",
      "photoUrl": "https://lh3.googleusercontent.com/a-/AOh14GiyMZDHMA83WHyx74m-go4USTgeDx8VJc5EZNmqAA=s64",
      "userId": "07920877335192967897"
     },
     "user_tz": -60
    },
    "id": "o43ZAn2tTK72",
    "outputId": "00fee435-b85f-45a9-9d12-912244a20c60"
   },
   "outputs": [
    {
     "name": "stdout",
     "output_type": "stream",
     "text": [
      "49\n",
      "49\n"
     ]
    }
   ],
   "source": [
    "we_train_now = fillna(we_train)\n",
    "we_test_now = fillna(we_test)"
   ]
  },
  {
   "cell_type": "code",
   "execution_count": 18,
   "metadata": {
    "colab": {
     "base_uri": "https://localhost:8080/",
     "height": 162
    },
    "executionInfo": {
     "elapsed": 8471,
     "status": "ok",
     "timestamp": 1601416891536,
     "user": {
      "displayName": "Yusuf Qoyum",
      "photoUrl": "https://lh3.googleusercontent.com/a-/AOh14GiyMZDHMA83WHyx74m-go4USTgeDx8VJc5EZNmqAA=s64",
      "userId": "07920877335192967897"
     },
     "user_tz": -60
    },
    "id": "5T7cnvZKToVm",
    "outputId": "4a8ea9f9-f2d6-48af-c416-a2094d1564c9"
   },
   "outputs": [
    {
     "data": {
      "text/html": [
       "<div>\n",
       "<style scoped>\n",
       "    .dataframe tbody tr th:only-of-type {\n",
       "        vertical-align: middle;\n",
       "    }\n",
       "\n",
       "    .dataframe tbody tr th {\n",
       "        vertical-align: top;\n",
       "    }\n",
       "\n",
       "    .dataframe thead th {\n",
       "        text-align: right;\n",
       "    }\n",
       "</style>\n",
       "<table border=\"1\" class=\"dataframe\">\n",
       "  <thead>\n",
       "    <tr style=\"text-align: right;\">\n",
       "      <th></th>\n",
       "      <th>Applicant_ID</th>\n",
       "      <th>form_field1</th>\n",
       "      <th>form_field2</th>\n",
       "      <th>form_field3</th>\n",
       "      <th>form_field4</th>\n",
       "      <th>form_field5</th>\n",
       "      <th>form_field6</th>\n",
       "      <th>form_field7</th>\n",
       "      <th>form_field8</th>\n",
       "      <th>form_field9</th>\n",
       "      <th>...</th>\n",
       "      <th>form_field42</th>\n",
       "      <th>form_field43</th>\n",
       "      <th>form_field44</th>\n",
       "      <th>form_field45</th>\n",
       "      <th>form_field46</th>\n",
       "      <th>form_field47</th>\n",
       "      <th>form_field48</th>\n",
       "      <th>form_field49</th>\n",
       "      <th>form_field50</th>\n",
       "      <th>default_status</th>\n",
       "    </tr>\n",
       "  </thead>\n",
       "  <tbody>\n",
       "    <tr>\n",
       "      <th>0</th>\n",
       "      <td>Apcnt_1000000</td>\n",
       "      <td>3436.0</td>\n",
       "      <td>0.28505</td>\n",
       "      <td>1.6560</td>\n",
       "      <td>0.0</td>\n",
       "      <td>0.000</td>\n",
       "      <td>0.0</td>\n",
       "      <td>10689720.0</td>\n",
       "      <td>252072.0</td>\n",
       "      <td>4272776.0</td>\n",
       "      <td>...</td>\n",
       "      <td>0.392854</td>\n",
       "      <td>2.02</td>\n",
       "      <td>0.711632</td>\n",
       "      <td>0.0</td>\n",
       "      <td>0.0</td>\n",
       "      <td>charge</td>\n",
       "      <td>318.124292</td>\n",
       "      <td>1.129518</td>\n",
       "      <td>0.044335</td>\n",
       "      <td>no</td>\n",
       "    </tr>\n",
       "    <tr>\n",
       "      <th>1</th>\n",
       "      <td>Apcnt_1000004</td>\n",
       "      <td>3456.0</td>\n",
       "      <td>0.67400</td>\n",
       "      <td>0.2342</td>\n",
       "      <td>0.0</td>\n",
       "      <td>0.000</td>\n",
       "      <td>0.0</td>\n",
       "      <td>898979.0</td>\n",
       "      <td>497531.0</td>\n",
       "      <td>9073814.0</td>\n",
       "      <td>...</td>\n",
       "      <td>0.314281</td>\n",
       "      <td>8.08</td>\n",
       "      <td>0.183584</td>\n",
       "      <td>0.0</td>\n",
       "      <td>0.0</td>\n",
       "      <td>charge</td>\n",
       "      <td>349.805730</td>\n",
       "      <td>1.620483</td>\n",
       "      <td>0.322436</td>\n",
       "      <td>no</td>\n",
       "    </tr>\n",
       "    <tr>\n",
       "      <th>2</th>\n",
       "      <td>Apcnt_1000008</td>\n",
       "      <td>3276.0</td>\n",
       "      <td>0.53845</td>\n",
       "      <td>3.1510</td>\n",
       "      <td>0.0</td>\n",
       "      <td>6.282</td>\n",
       "      <td>115533.0</td>\n",
       "      <td>956940.0</td>\n",
       "      <td>963942.0</td>\n",
       "      <td>192944.0</td>\n",
       "      <td>...</td>\n",
       "      <td>0.162965</td>\n",
       "      <td>18.18</td>\n",
       "      <td>0.791136</td>\n",
       "      <td>0.0</td>\n",
       "      <td>0.0</td>\n",
       "      <td>charge</td>\n",
       "      <td>318.124292</td>\n",
       "      <td>1.513370</td>\n",
       "      <td>0.011640</td>\n",
       "      <td>yes</td>\n",
       "    </tr>\n",
       "  </tbody>\n",
       "</table>\n",
       "<p>3 rows × 52 columns</p>\n",
       "</div>"
      ],
      "text/plain": [
       "    Applicant_ID  form_field1  form_field2  form_field3  form_field4  \\\n",
       "0  Apcnt_1000000       3436.0      0.28505       1.6560          0.0   \n",
       "1  Apcnt_1000004       3456.0      0.67400       0.2342          0.0   \n",
       "2  Apcnt_1000008       3276.0      0.53845       3.1510          0.0   \n",
       "\n",
       "   form_field5  form_field6  form_field7  form_field8  form_field9  ...  \\\n",
       "0        0.000          0.0   10689720.0     252072.0    4272776.0  ...   \n",
       "1        0.000          0.0     898979.0     497531.0    9073814.0  ...   \n",
       "2        6.282     115533.0     956940.0     963942.0     192944.0  ...   \n",
       "\n",
       "   form_field42  form_field43  form_field44  form_field45  form_field46  \\\n",
       "0      0.392854          2.02      0.711632           0.0           0.0   \n",
       "1      0.314281          8.08      0.183584           0.0           0.0   \n",
       "2      0.162965         18.18      0.791136           0.0           0.0   \n",
       "\n",
       "   form_field47  form_field48  form_field49  form_field50  default_status  \n",
       "0        charge    318.124292      1.129518      0.044335              no  \n",
       "1        charge    349.805730      1.620483      0.322436              no  \n",
       "2        charge    318.124292      1.513370      0.011640             yes  \n",
       "\n",
       "[3 rows x 52 columns]"
      ]
     },
     "execution_count": 18,
     "metadata": {},
     "output_type": "execute_result"
    }
   ],
   "source": [
    "we_train_now.head(3)"
   ]
  },
  {
   "cell_type": "code",
   "execution_count": 19,
   "metadata": {
    "colab": {
     "base_uri": "https://localhost:8080/",
     "height": 162
    },
    "executionInfo": {
     "elapsed": 8447,
     "status": "ok",
     "timestamp": 1601416891537,
     "user": {
      "displayName": "Yusuf Qoyum",
      "photoUrl": "https://lh3.googleusercontent.com/a-/AOh14GiyMZDHMA83WHyx74m-go4USTgeDx8VJc5EZNmqAA=s64",
      "userId": "07920877335192967897"
     },
     "user_tz": -60
    },
    "id": "DVhbLbJQTyY-",
    "outputId": "4b41cbc4-04fe-4b41-88ab-bbcbd5fbbb1f"
   },
   "outputs": [
    {
     "data": {
      "text/html": [
       "<div>\n",
       "<style scoped>\n",
       "    .dataframe tbody tr th:only-of-type {\n",
       "        vertical-align: middle;\n",
       "    }\n",
       "\n",
       "    .dataframe tbody tr th {\n",
       "        vertical-align: top;\n",
       "    }\n",
       "\n",
       "    .dataframe thead th {\n",
       "        text-align: right;\n",
       "    }\n",
       "</style>\n",
       "<table border=\"1\" class=\"dataframe\">\n",
       "  <thead>\n",
       "    <tr style=\"text-align: right;\">\n",
       "      <th></th>\n",
       "      <th>Applicant_ID</th>\n",
       "      <th>form_field1</th>\n",
       "      <th>form_field2</th>\n",
       "      <th>form_field3</th>\n",
       "      <th>form_field4</th>\n",
       "      <th>form_field5</th>\n",
       "      <th>form_field6</th>\n",
       "      <th>form_field7</th>\n",
       "      <th>form_field8</th>\n",
       "      <th>form_field9</th>\n",
       "      <th>...</th>\n",
       "      <th>form_field41</th>\n",
       "      <th>form_field42</th>\n",
       "      <th>form_field43</th>\n",
       "      <th>form_field44</th>\n",
       "      <th>form_field45</th>\n",
       "      <th>form_field46</th>\n",
       "      <th>form_field47</th>\n",
       "      <th>form_field48</th>\n",
       "      <th>form_field49</th>\n",
       "      <th>form_field50</th>\n",
       "    </tr>\n",
       "  </thead>\n",
       "  <tbody>\n",
       "    <tr>\n",
       "      <th>0</th>\n",
       "      <td>Apcnt_1000032</td>\n",
       "      <td>3236.0</td>\n",
       "      <td>0.34875</td>\n",
       "      <td>10.2006</td>\n",
       "      <td>0.0000</td>\n",
       "      <td>0.0</td>\n",
       "      <td>418564.0</td>\n",
       "      <td>418564.0</td>\n",
       "      <td>418564.0</td>\n",
       "      <td>540710.0</td>\n",
       "      <td>...</td>\n",
       "      <td>117.9840</td>\n",
       "      <td>0.825000</td>\n",
       "      <td>1.01</td>\n",
       "      <td>0.800000</td>\n",
       "      <td>0.0</td>\n",
       "      <td>0.0</td>\n",
       "      <td>charge</td>\n",
       "      <td>313.175396</td>\n",
       "      <td>0.000000</td>\n",
       "      <td>0.011221</td>\n",
       "    </tr>\n",
       "    <tr>\n",
       "      <th>1</th>\n",
       "      <td>Apcnt_1000048</td>\n",
       "      <td>3284.0</td>\n",
       "      <td>1.27360</td>\n",
       "      <td>2.9606</td>\n",
       "      <td>9.0198</td>\n",
       "      <td>0.0</td>\n",
       "      <td>0.0</td>\n",
       "      <td>9858816.0</td>\n",
       "      <td>49014.0</td>\n",
       "      <td>1510098.0</td>\n",
       "      <td>...</td>\n",
       "      <td>18.8415</td>\n",
       "      <td>0.507694</td>\n",
       "      <td>4.04</td>\n",
       "      <td>0.623248</td>\n",
       "      <td>1.0</td>\n",
       "      <td>0.0</td>\n",
       "      <td>lending</td>\n",
       "      <td>313.175396</td>\n",
       "      <td>0.504974</td>\n",
       "      <td>0.043525</td>\n",
       "    </tr>\n",
       "    <tr>\n",
       "      <th>2</th>\n",
       "      <td>Apcnt_1000052</td>\n",
       "      <td>3484.0</td>\n",
       "      <td>0.27505</td>\n",
       "      <td>0.0600</td>\n",
       "      <td>0.0000</td>\n",
       "      <td>0.0</td>\n",
       "      <td>115533.0</td>\n",
       "      <td>2719888.0</td>\n",
       "      <td>959468.5</td>\n",
       "      <td>5529829.5</td>\n",
       "      <td>...</td>\n",
       "      <td>117.9840</td>\n",
       "      <td>0.220000</td>\n",
       "      <td>0.00</td>\n",
       "      <td>0.592100</td>\n",
       "      <td>0.0</td>\n",
       "      <td>0.0</td>\n",
       "      <td>charge</td>\n",
       "      <td>313.175396</td>\n",
       "      <td>0.000000</td>\n",
       "      <td>0.168000</td>\n",
       "    </tr>\n",
       "  </tbody>\n",
       "</table>\n",
       "<p>3 rows × 51 columns</p>\n",
       "</div>"
      ],
      "text/plain": [
       "    Applicant_ID  form_field1  form_field2  form_field3  form_field4  \\\n",
       "0  Apcnt_1000032       3236.0      0.34875      10.2006       0.0000   \n",
       "1  Apcnt_1000048       3284.0      1.27360       2.9606       9.0198   \n",
       "2  Apcnt_1000052       3484.0      0.27505       0.0600       0.0000   \n",
       "\n",
       "   form_field5  form_field6  form_field7  form_field8  form_field9  ...  \\\n",
       "0          0.0     418564.0     418564.0     418564.0     540710.0  ...   \n",
       "1          0.0          0.0    9858816.0      49014.0    1510098.0  ...   \n",
       "2          0.0     115533.0    2719888.0     959468.5    5529829.5  ...   \n",
       "\n",
       "   form_field41  form_field42  form_field43  form_field44  form_field45  \\\n",
       "0      117.9840      0.825000          1.01      0.800000           0.0   \n",
       "1       18.8415      0.507694          4.04      0.623248           1.0   \n",
       "2      117.9840      0.220000          0.00      0.592100           0.0   \n",
       "\n",
       "   form_field46  form_field47  form_field48  form_field49  form_field50  \n",
       "0           0.0        charge    313.175396      0.000000      0.011221  \n",
       "1           0.0       lending    313.175396      0.504974      0.043525  \n",
       "2           0.0        charge    313.175396      0.000000      0.168000  \n",
       "\n",
       "[3 rows x 51 columns]"
      ]
     },
     "execution_count": 19,
     "metadata": {},
     "output_type": "execute_result"
    }
   ],
   "source": [
    "we_test_now.head(3)"
   ]
  },
  {
   "cell_type": "markdown",
   "metadata": {
    "id": "cGXQxmLhVPZT"
   },
   "source": [
    "Next is to convert our categorical variable into numerical inorder to be able to access it efficiently and further engineer it.\n",
    "\n",
    "we need to know the levels firstly."
   ]
  },
  {
   "cell_type": "code",
   "execution_count": 20,
   "metadata": {
    "colab": {
     "base_uri": "https://localhost:8080/",
     "height": 35
    },
    "executionInfo": {
     "elapsed": 8381,
     "status": "ok",
     "timestamp": 1601416891538,
     "user": {
      "displayName": "Yusuf Qoyum",
      "photoUrl": "https://lh3.googleusercontent.com/a-/AOh14GiyMZDHMA83WHyx74m-go4USTgeDx8VJc5EZNmqAA=s64",
      "userId": "07920877335192967897"
     },
     "user_tz": -60
    },
    "id": "kJkKqw4MVg0r",
    "outputId": "24e86c4f-74b6-48a2-ae8f-c64aaa533d11"
   },
   "outputs": [
    {
     "data": {
      "text/plain": [
       "array(['charge', 'lending'], dtype=object)"
      ]
     },
     "execution_count": 20,
     "metadata": {},
     "output_type": "execute_result"
    }
   ],
   "source": [
    "we_train_now['form_field47'].unique()"
   ]
  },
  {
   "cell_type": "code",
   "execution_count": 21,
   "metadata": {
    "colab": {
     "base_uri": "https://localhost:8080/",
     "height": 35
    },
    "executionInfo": {
     "elapsed": 8294,
     "status": "ok",
     "timestamp": 1601416891539,
     "user": {
      "displayName": "Yusuf Qoyum",
      "photoUrl": "https://lh3.googleusercontent.com/a-/AOh14GiyMZDHMA83WHyx74m-go4USTgeDx8VJc5EZNmqAA=s64",
      "userId": "07920877335192967897"
     },
     "user_tz": -60
    },
    "id": "oPq1Q3zTV8Ae",
    "outputId": "d097e549-c813-42a4-d731-af9cdb99efe2"
   },
   "outputs": [
    {
     "data": {
      "text/plain": [
       "dict_values([1, 2])"
      ]
     },
     "execution_count": 21,
     "metadata": {},
     "output_type": "execute_result"
    }
   ],
   "source": [
    "product_no = {\"charge\": 1, \"lending\":2}\n",
    "product_no.values()"
   ]
  },
  {
   "cell_type": "code",
   "execution_count": 22,
   "metadata": {
    "colab": {
     "base_uri": "https://localhost:8080/",
     "height": 89
    },
    "executionInfo": {
     "elapsed": 8842,
     "status": "ok",
     "timestamp": 1601416892147,
     "user": {
      "displayName": "Yusuf Qoyum",
      "photoUrl": "https://lh3.googleusercontent.com/a-/AOh14GiyMZDHMA83WHyx74m-go4USTgeDx8VJc5EZNmqAA=s64",
      "userId": "07920877335192967897"
     },
     "user_tz": -60
    },
    "id": "MemH0EgpWLCT",
    "outputId": "db23169c-16e1-4efd-beda-001f1d18422d"
   },
   "outputs": [
    {
     "data": {
      "text/plain": [
       "55997    2\n",
       "55998    1\n",
       "55999    1\n",
       "Name: form_field47, dtype: int64"
      ]
     },
     "execution_count": 22,
     "metadata": {},
     "output_type": "execute_result"
    }
   ],
   "source": [
    "we_train_now['form_field47'] = we_train_now['form_field47'].map(product_no)\n",
    "we_train_now['form_field47'].tail(3)"
   ]
  },
  {
   "cell_type": "code",
   "execution_count": 23,
   "metadata": {
    "colab": {
     "base_uri": "https://localhost:8080/",
     "height": 71
    },
    "executionInfo": {
     "elapsed": 8807,
     "status": "ok",
     "timestamp": 1601416892148,
     "user": {
      "displayName": "Yusuf Qoyum",
      "photoUrl": "https://lh3.googleusercontent.com/a-/AOh14GiyMZDHMA83WHyx74m-go4USTgeDx8VJc5EZNmqAA=s64",
      "userId": "07920877335192967897"
     },
     "user_tz": -60
    },
    "id": "Jy2Q3ZqRW2d2",
    "outputId": "5e80e6dc-e16a-4001-921a-1536ea8bb910"
   },
   "outputs": [
    {
     "data": {
      "text/plain": [
       "1    36373\n",
       "2    19627\n",
       "Name: form_field47, dtype: int64"
      ]
     },
     "execution_count": 23,
     "metadata": {},
     "output_type": "execute_result"
    }
   ],
   "source": [
    "we_train_now['form_field47'].value_counts()"
   ]
  },
  {
   "cell_type": "code",
   "execution_count": 24,
   "metadata": {
    "colab": {
     "base_uri": "https://localhost:8080/",
     "height": 35
    },
    "executionInfo": {
     "elapsed": 8778,
     "status": "ok",
     "timestamp": 1601416892149,
     "user": {
      "displayName": "Yusuf Qoyum",
      "photoUrl": "https://lh3.googleusercontent.com/a-/AOh14GiyMZDHMA83WHyx74m-go4USTgeDx8VJc5EZNmqAA=s64",
      "userId": "07920877335192967897"
     },
     "user_tz": -60
    },
    "id": "bprYP02YXTJ8",
    "outputId": "90643d85-95ab-4918-9664-951e1427ea6f"
   },
   "outputs": [
    {
     "data": {
      "text/plain": [
       "array(['no', 'yes'], dtype=object)"
      ]
     },
     "execution_count": 24,
     "metadata": {},
     "output_type": "execute_result"
    }
   ],
   "source": [
    "we_train_now['default_status'].unique()"
   ]
  },
  {
   "cell_type": "code",
   "execution_count": 25,
   "metadata": {
    "colab": {
     "base_uri": "https://localhost:8080/",
     "height": 35
    },
    "executionInfo": {
     "elapsed": 8757,
     "status": "ok",
     "timestamp": 1601416892151,
     "user": {
      "displayName": "Yusuf Qoyum",
      "photoUrl": "https://lh3.googleusercontent.com/a-/AOh14GiyMZDHMA83WHyx74m-go4USTgeDx8VJc5EZNmqAA=s64",
      "userId": "07920877335192967897"
     },
     "user_tz": -60
    },
    "id": "wFRuxfPFXY6l",
    "outputId": "83a4d7c9-1a9c-413f-e07c-05a799d90587"
   },
   "outputs": [
    {
     "data": {
      "text/plain": [
       "dict_values([0, 1])"
      ]
     },
     "execution_count": 25,
     "metadata": {},
     "output_type": "execute_result"
    }
   ],
   "source": [
    "status = {\"no\": 0, \"yes\": 1}\n",
    "status.values()"
   ]
  },
  {
   "cell_type": "code",
   "execution_count": 26,
   "metadata": {
    "colab": {
     "base_uri": "https://localhost:8080/",
     "height": 71
    },
    "executionInfo": {
     "elapsed": 8732,
     "status": "ok",
     "timestamp": 1601416892153,
     "user": {
      "displayName": "Yusuf Qoyum",
      "photoUrl": "https://lh3.googleusercontent.com/a-/AOh14GiyMZDHMA83WHyx74m-go4USTgeDx8VJc5EZNmqAA=s64",
      "userId": "07920877335192967897"
     },
     "user_tz": -60
    },
    "id": "tMPUBAXBXphP",
    "outputId": "6d9199cf-501d-42b7-d296-4cd4177f4afa"
   },
   "outputs": [
    {
     "data": {
      "text/plain": [
       "0    42285\n",
       "1    13715\n",
       "Name: default_status, dtype: int64"
      ]
     },
     "execution_count": 26,
     "metadata": {},
     "output_type": "execute_result"
    }
   ],
   "source": [
    "we_train_now['default_status'] = we_train_now['default_status'].map(status)\n",
    "we_train_now['default_status'].value_counts()"
   ]
  },
  {
   "cell_type": "markdown",
   "metadata": {
    "id": "O6yW64sUYtqC"
   },
   "source": [
    "Test.csv has just one categorical column, the form_field47, lets perform the same operation on it."
   ]
  },
  {
   "cell_type": "code",
   "execution_count": 27,
   "metadata": {
    "colab": {
     "base_uri": "https://localhost:8080/",
     "height": 35
    },
    "executionInfo": {
     "elapsed": 8700,
     "status": "ok",
     "timestamp": 1601416892154,
     "user": {
      "displayName": "Yusuf Qoyum",
      "photoUrl": "https://lh3.googleusercontent.com/a-/AOh14GiyMZDHMA83WHyx74m-go4USTgeDx8VJc5EZNmqAA=s64",
      "userId": "07920877335192967897"
     },
     "user_tz": -60
    },
    "id": "oJJWG1HUYoHA",
    "outputId": "4a568038-ba55-4eac-cf92-9b8295165975"
   },
   "outputs": [
    {
     "data": {
      "text/plain": [
       "array(['charge', 'lending'], dtype=object)"
      ]
     },
     "execution_count": 27,
     "metadata": {},
     "output_type": "execute_result"
    }
   ],
   "source": [
    "we_test_now['form_field47'].unique()"
   ]
  },
  {
   "cell_type": "code",
   "execution_count": 28,
   "metadata": {
    "colab": {
     "base_uri": "https://localhost:8080/",
     "height": 35
    },
    "executionInfo": {
     "elapsed": 8670,
     "status": "ok",
     "timestamp": 1601416892155,
     "user": {
      "displayName": "Yusuf Qoyum",
      "photoUrl": "https://lh3.googleusercontent.com/a-/AOh14GiyMZDHMA83WHyx74m-go4USTgeDx8VJc5EZNmqAA=s64",
      "userId": "07920877335192967897"
     },
     "user_tz": -60
    },
    "id": "IUHs33FUZIl6",
    "outputId": "05b60dd5-09a3-4e74-a9b8-e26d2211278d"
   },
   "outputs": [
    {
     "data": {
      "text/plain": [
       "dict_values([1, 2])"
      ]
     },
     "execution_count": 28,
     "metadata": {},
     "output_type": "execute_result"
    }
   ],
   "source": [
    "product_nm = {\"charge\": 1, \"lending\":2}\n",
    "product_nm.values()"
   ]
  },
  {
   "cell_type": "code",
   "execution_count": 29,
   "metadata": {
    "colab": {
     "base_uri": "https://localhost:8080/",
     "height": 89
    },
    "executionInfo": {
     "elapsed": 8643,
     "status": "ok",
     "timestamp": 1601416892156,
     "user": {
      "displayName": "Yusuf Qoyum",
      "photoUrl": "https://lh3.googleusercontent.com/a-/AOh14GiyMZDHMA83WHyx74m-go4USTgeDx8VJc5EZNmqAA=s64",
      "userId": "07920877335192967897"
     },
     "user_tz": -60
    },
    "id": "KfSDXVWfZNRU",
    "outputId": "ae511426-6605-46f0-9bf2-9092b1617e5f"
   },
   "outputs": [
    {
     "data": {
      "text/plain": [
       "23997    1\n",
       "23998    1\n",
       "23999    1\n",
       "Name: form_field47, dtype: int64"
      ]
     },
     "execution_count": 29,
     "metadata": {},
     "output_type": "execute_result"
    }
   ],
   "source": [
    "we_test_now['form_field47'] = we_test_now['form_field47'].map(product_nm)\n",
    "we_test_now['form_field47'].tail(3)"
   ]
  },
  {
   "cell_type": "markdown",
   "metadata": {
    "id": "VGP3VhObZgSH"
   },
   "source": [
    "On changing the whole categorical variable to numeric and all missing values replaced, let's see what how datasets look like."
   ]
  },
  {
   "cell_type": "code",
   "execution_count": 30,
   "metadata": {
    "colab": {
     "base_uri": "https://localhost:8080/",
     "height": 162
    },
    "executionInfo": {
     "elapsed": 8621,
     "status": "ok",
     "timestamp": 1601416892157,
     "user": {
      "displayName": "Yusuf Qoyum",
      "photoUrl": "https://lh3.googleusercontent.com/a-/AOh14GiyMZDHMA83WHyx74m-go4USTgeDx8VJc5EZNmqAA=s64",
      "userId": "07920877335192967897"
     },
     "user_tz": -60
    },
    "id": "TANirHn5aASF",
    "outputId": "c044975f-c48a-4f5b-d0a3-93f32e25eef2"
   },
   "outputs": [
    {
     "data": {
      "text/html": [
       "<div>\n",
       "<style scoped>\n",
       "    .dataframe tbody tr th:only-of-type {\n",
       "        vertical-align: middle;\n",
       "    }\n",
       "\n",
       "    .dataframe tbody tr th {\n",
       "        vertical-align: top;\n",
       "    }\n",
       "\n",
       "    .dataframe thead th {\n",
       "        text-align: right;\n",
       "    }\n",
       "</style>\n",
       "<table border=\"1\" class=\"dataframe\">\n",
       "  <thead>\n",
       "    <tr style=\"text-align: right;\">\n",
       "      <th></th>\n",
       "      <th>Applicant_ID</th>\n",
       "      <th>form_field1</th>\n",
       "      <th>form_field2</th>\n",
       "      <th>form_field3</th>\n",
       "      <th>form_field4</th>\n",
       "      <th>form_field5</th>\n",
       "      <th>form_field6</th>\n",
       "      <th>form_field7</th>\n",
       "      <th>form_field8</th>\n",
       "      <th>form_field9</th>\n",
       "      <th>...</th>\n",
       "      <th>form_field42</th>\n",
       "      <th>form_field43</th>\n",
       "      <th>form_field44</th>\n",
       "      <th>form_field45</th>\n",
       "      <th>form_field46</th>\n",
       "      <th>form_field47</th>\n",
       "      <th>form_field48</th>\n",
       "      <th>form_field49</th>\n",
       "      <th>form_field50</th>\n",
       "      <th>default_status</th>\n",
       "    </tr>\n",
       "  </thead>\n",
       "  <tbody>\n",
       "    <tr>\n",
       "      <th>0</th>\n",
       "      <td>Apcnt_1000000</td>\n",
       "      <td>3436.0</td>\n",
       "      <td>0.28505</td>\n",
       "      <td>1.6560</td>\n",
       "      <td>0.0</td>\n",
       "      <td>0.000</td>\n",
       "      <td>0.0</td>\n",
       "      <td>10689720.0</td>\n",
       "      <td>252072.0</td>\n",
       "      <td>4272776.0</td>\n",
       "      <td>...</td>\n",
       "      <td>0.392854</td>\n",
       "      <td>2.02</td>\n",
       "      <td>0.711632</td>\n",
       "      <td>0.0</td>\n",
       "      <td>0.0</td>\n",
       "      <td>1</td>\n",
       "      <td>318.124292</td>\n",
       "      <td>1.129518</td>\n",
       "      <td>0.044335</td>\n",
       "      <td>0</td>\n",
       "    </tr>\n",
       "    <tr>\n",
       "      <th>1</th>\n",
       "      <td>Apcnt_1000004</td>\n",
       "      <td>3456.0</td>\n",
       "      <td>0.67400</td>\n",
       "      <td>0.2342</td>\n",
       "      <td>0.0</td>\n",
       "      <td>0.000</td>\n",
       "      <td>0.0</td>\n",
       "      <td>898979.0</td>\n",
       "      <td>497531.0</td>\n",
       "      <td>9073814.0</td>\n",
       "      <td>...</td>\n",
       "      <td>0.314281</td>\n",
       "      <td>8.08</td>\n",
       "      <td>0.183584</td>\n",
       "      <td>0.0</td>\n",
       "      <td>0.0</td>\n",
       "      <td>1</td>\n",
       "      <td>349.805730</td>\n",
       "      <td>1.620483</td>\n",
       "      <td>0.322436</td>\n",
       "      <td>0</td>\n",
       "    </tr>\n",
       "    <tr>\n",
       "      <th>2</th>\n",
       "      <td>Apcnt_1000008</td>\n",
       "      <td>3276.0</td>\n",
       "      <td>0.53845</td>\n",
       "      <td>3.1510</td>\n",
       "      <td>0.0</td>\n",
       "      <td>6.282</td>\n",
       "      <td>115533.0</td>\n",
       "      <td>956940.0</td>\n",
       "      <td>963942.0</td>\n",
       "      <td>192944.0</td>\n",
       "      <td>...</td>\n",
       "      <td>0.162965</td>\n",
       "      <td>18.18</td>\n",
       "      <td>0.791136</td>\n",
       "      <td>0.0</td>\n",
       "      <td>0.0</td>\n",
       "      <td>1</td>\n",
       "      <td>318.124292</td>\n",
       "      <td>1.513370</td>\n",
       "      <td>0.011640</td>\n",
       "      <td>1</td>\n",
       "    </tr>\n",
       "  </tbody>\n",
       "</table>\n",
       "<p>3 rows × 52 columns</p>\n",
       "</div>"
      ],
      "text/plain": [
       "    Applicant_ID  form_field1  form_field2  form_field3  form_field4  \\\n",
       "0  Apcnt_1000000       3436.0      0.28505       1.6560          0.0   \n",
       "1  Apcnt_1000004       3456.0      0.67400       0.2342          0.0   \n",
       "2  Apcnt_1000008       3276.0      0.53845       3.1510          0.0   \n",
       "\n",
       "   form_field5  form_field6  form_field7  form_field8  form_field9  ...  \\\n",
       "0        0.000          0.0   10689720.0     252072.0    4272776.0  ...   \n",
       "1        0.000          0.0     898979.0     497531.0    9073814.0  ...   \n",
       "2        6.282     115533.0     956940.0     963942.0     192944.0  ...   \n",
       "\n",
       "   form_field42  form_field43  form_field44  form_field45  form_field46  \\\n",
       "0      0.392854          2.02      0.711632           0.0           0.0   \n",
       "1      0.314281          8.08      0.183584           0.0           0.0   \n",
       "2      0.162965         18.18      0.791136           0.0           0.0   \n",
       "\n",
       "   form_field47  form_field48  form_field49  form_field50  default_status  \n",
       "0             1    318.124292      1.129518      0.044335               0  \n",
       "1             1    349.805730      1.620483      0.322436               0  \n",
       "2             1    318.124292      1.513370      0.011640               1  \n",
       "\n",
       "[3 rows x 52 columns]"
      ]
     },
     "execution_count": 30,
     "metadata": {},
     "output_type": "execute_result"
    }
   ],
   "source": [
    "we_train_now.head(3)"
   ]
  },
  {
   "cell_type": "code",
   "execution_count": 31,
   "metadata": {
    "colab": {
     "base_uri": "https://localhost:8080/",
     "height": 35
    },
    "executionInfo": {
     "elapsed": 8604,
     "status": "ok",
     "timestamp": 1601416892158,
     "user": {
      "displayName": "Yusuf Qoyum",
      "photoUrl": "https://lh3.googleusercontent.com/a-/AOh14GiyMZDHMA83WHyx74m-go4USTgeDx8VJc5EZNmqAA=s64",
      "userId": "07920877335192967897"
     },
     "user_tz": -60
    },
    "id": "VpGBzXXGaVaK",
    "outputId": "412e785f-1e4f-45d5-bf07-61f84406203e"
   },
   "outputs": [
    {
     "data": {
      "text/plain": [
       "(56000, 52)"
      ]
     },
     "execution_count": 31,
     "metadata": {},
     "output_type": "execute_result"
    }
   ],
   "source": [
    "we_train_now.shape"
   ]
  },
  {
   "cell_type": "code",
   "execution_count": 32,
   "metadata": {
    "colab": {
     "base_uri": "https://localhost:8080/",
     "height": 162
    },
    "executionInfo": {
     "elapsed": 8586,
     "status": "ok",
     "timestamp": 1601416892161,
     "user": {
      "displayName": "Yusuf Qoyum",
      "photoUrl": "https://lh3.googleusercontent.com/a-/AOh14GiyMZDHMA83WHyx74m-go4USTgeDx8VJc5EZNmqAA=s64",
      "userId": "07920877335192967897"
     },
     "user_tz": -60
    },
    "id": "mClklibMaPRV",
    "outputId": "86c60b8e-0d1f-4a24-d7c8-0d0f58895995"
   },
   "outputs": [
    {
     "data": {
      "text/html": [
       "<div>\n",
       "<style scoped>\n",
       "    .dataframe tbody tr th:only-of-type {\n",
       "        vertical-align: middle;\n",
       "    }\n",
       "\n",
       "    .dataframe tbody tr th {\n",
       "        vertical-align: top;\n",
       "    }\n",
       "\n",
       "    .dataframe thead th {\n",
       "        text-align: right;\n",
       "    }\n",
       "</style>\n",
       "<table border=\"1\" class=\"dataframe\">\n",
       "  <thead>\n",
       "    <tr style=\"text-align: right;\">\n",
       "      <th></th>\n",
       "      <th>Applicant_ID</th>\n",
       "      <th>form_field1</th>\n",
       "      <th>form_field2</th>\n",
       "      <th>form_field3</th>\n",
       "      <th>form_field4</th>\n",
       "      <th>form_field5</th>\n",
       "      <th>form_field6</th>\n",
       "      <th>form_field7</th>\n",
       "      <th>form_field8</th>\n",
       "      <th>form_field9</th>\n",
       "      <th>...</th>\n",
       "      <th>form_field41</th>\n",
       "      <th>form_field42</th>\n",
       "      <th>form_field43</th>\n",
       "      <th>form_field44</th>\n",
       "      <th>form_field45</th>\n",
       "      <th>form_field46</th>\n",
       "      <th>form_field47</th>\n",
       "      <th>form_field48</th>\n",
       "      <th>form_field49</th>\n",
       "      <th>form_field50</th>\n",
       "    </tr>\n",
       "  </thead>\n",
       "  <tbody>\n",
       "    <tr>\n",
       "      <th>0</th>\n",
       "      <td>Apcnt_1000032</td>\n",
       "      <td>3236.0</td>\n",
       "      <td>0.34875</td>\n",
       "      <td>10.2006</td>\n",
       "      <td>0.0000</td>\n",
       "      <td>0.0</td>\n",
       "      <td>418564.0</td>\n",
       "      <td>418564.0</td>\n",
       "      <td>418564.0</td>\n",
       "      <td>540710.0</td>\n",
       "      <td>...</td>\n",
       "      <td>117.9840</td>\n",
       "      <td>0.825000</td>\n",
       "      <td>1.01</td>\n",
       "      <td>0.800000</td>\n",
       "      <td>0.0</td>\n",
       "      <td>0.0</td>\n",
       "      <td>1</td>\n",
       "      <td>313.175396</td>\n",
       "      <td>0.000000</td>\n",
       "      <td>0.011221</td>\n",
       "    </tr>\n",
       "    <tr>\n",
       "      <th>1</th>\n",
       "      <td>Apcnt_1000048</td>\n",
       "      <td>3284.0</td>\n",
       "      <td>1.27360</td>\n",
       "      <td>2.9606</td>\n",
       "      <td>9.0198</td>\n",
       "      <td>0.0</td>\n",
       "      <td>0.0</td>\n",
       "      <td>9858816.0</td>\n",
       "      <td>49014.0</td>\n",
       "      <td>1510098.0</td>\n",
       "      <td>...</td>\n",
       "      <td>18.8415</td>\n",
       "      <td>0.507694</td>\n",
       "      <td>4.04</td>\n",
       "      <td>0.623248</td>\n",
       "      <td>1.0</td>\n",
       "      <td>0.0</td>\n",
       "      <td>2</td>\n",
       "      <td>313.175396</td>\n",
       "      <td>0.504974</td>\n",
       "      <td>0.043525</td>\n",
       "    </tr>\n",
       "    <tr>\n",
       "      <th>2</th>\n",
       "      <td>Apcnt_1000052</td>\n",
       "      <td>3484.0</td>\n",
       "      <td>0.27505</td>\n",
       "      <td>0.0600</td>\n",
       "      <td>0.0000</td>\n",
       "      <td>0.0</td>\n",
       "      <td>115533.0</td>\n",
       "      <td>2719888.0</td>\n",
       "      <td>959468.5</td>\n",
       "      <td>5529829.5</td>\n",
       "      <td>...</td>\n",
       "      <td>117.9840</td>\n",
       "      <td>0.220000</td>\n",
       "      <td>0.00</td>\n",
       "      <td>0.592100</td>\n",
       "      <td>0.0</td>\n",
       "      <td>0.0</td>\n",
       "      <td>1</td>\n",
       "      <td>313.175396</td>\n",
       "      <td>0.000000</td>\n",
       "      <td>0.168000</td>\n",
       "    </tr>\n",
       "  </tbody>\n",
       "</table>\n",
       "<p>3 rows × 51 columns</p>\n",
       "</div>"
      ],
      "text/plain": [
       "    Applicant_ID  form_field1  form_field2  form_field3  form_field4  \\\n",
       "0  Apcnt_1000032       3236.0      0.34875      10.2006       0.0000   \n",
       "1  Apcnt_1000048       3284.0      1.27360       2.9606       9.0198   \n",
       "2  Apcnt_1000052       3484.0      0.27505       0.0600       0.0000   \n",
       "\n",
       "   form_field5  form_field6  form_field7  form_field8  form_field9  ...  \\\n",
       "0          0.0     418564.0     418564.0     418564.0     540710.0  ...   \n",
       "1          0.0          0.0    9858816.0      49014.0    1510098.0  ...   \n",
       "2          0.0     115533.0    2719888.0     959468.5    5529829.5  ...   \n",
       "\n",
       "   form_field41  form_field42  form_field43  form_field44  form_field45  \\\n",
       "0      117.9840      0.825000          1.01      0.800000           0.0   \n",
       "1       18.8415      0.507694          4.04      0.623248           1.0   \n",
       "2      117.9840      0.220000          0.00      0.592100           0.0   \n",
       "\n",
       "   form_field46  form_field47  form_field48  form_field49  form_field50  \n",
       "0           0.0             1    313.175396      0.000000      0.011221  \n",
       "1           0.0             2    313.175396      0.504974      0.043525  \n",
       "2           0.0             1    313.175396      0.000000      0.168000  \n",
       "\n",
       "[3 rows x 51 columns]"
      ]
     },
     "execution_count": 32,
     "metadata": {},
     "output_type": "execute_result"
    }
   ],
   "source": [
    "we_test_now.head(3)"
   ]
  },
  {
   "cell_type": "code",
   "execution_count": 33,
   "metadata": {
    "colab": {
     "base_uri": "https://localhost:8080/",
     "height": 35
    },
    "executionInfo": {
     "elapsed": 8560,
     "status": "ok",
     "timestamp": 1601416892163,
     "user": {
      "displayName": "Yusuf Qoyum",
      "photoUrl": "https://lh3.googleusercontent.com/a-/AOh14GiyMZDHMA83WHyx74m-go4USTgeDx8VJc5EZNmqAA=s64",
      "userId": "07920877335192967897"
     },
     "user_tz": -60
    },
    "id": "WDDld9SoddZ6",
    "outputId": "8597571e-cc24-462d-f960-3cd9d3e9ebd4"
   },
   "outputs": [
    {
     "data": {
      "text/plain": [
       "(24000, 51)"
      ]
     },
     "execution_count": 33,
     "metadata": {},
     "output_type": "execute_result"
    }
   ],
   "source": [
    "we_test_now.shape"
   ]
  },
  {
   "cell_type": "markdown",
   "metadata": {
    "id": "0jtdXrc4c4oo"
   },
   "source": [
    "Removing the target variable column from the train dataset so that we can have equal number of columns for test and train to avoid mismatch error.\n",
    "\n",
    "Then reassigning the dropped variable and the remainder dataset into different containing variable. Our default status is now saved in \"y\"."
   ]
  },
  {
   "cell_type": "code",
   "execution_count": 34,
   "metadata": {
    "executionInfo": {
     "elapsed": 8552,
     "status": "ok",
     "timestamp": 1601416892164,
     "user": {
      "displayName": "Yusuf Qoyum",
      "photoUrl": "https://lh3.googleusercontent.com/a-/AOh14GiyMZDHMA83WHyx74m-go4USTgeDx8VJc5EZNmqAA=s64",
      "userId": "07920877335192967897"
     },
     "user_tz": -60
    },
    "id": "6q9-OAw6aaaI"
   },
   "outputs": [],
   "source": [
    "X, y = we_train_now.drop(columns=['default_status']), we_train_now['default_status']"
   ]
  },
  {
   "cell_type": "code",
   "execution_count": 35,
   "metadata": {
    "colab": {
     "base_uri": "https://localhost:8080/",
     "height": 439
    },
    "executionInfo": {
     "elapsed": 8526,
     "status": "ok",
     "timestamp": 1601416892165,
     "user": {
      "displayName": "Yusuf Qoyum",
      "photoUrl": "https://lh3.googleusercontent.com/a-/AOh14GiyMZDHMA83WHyx74m-go4USTgeDx8VJc5EZNmqAA=s64",
      "userId": "07920877335192967897"
     },
     "user_tz": -60
    },
    "id": "1NzClVw5bhZE",
    "outputId": "5eb2eddd-e29f-4c38-c73c-b9e8cd167cdc"
   },
   "outputs": [
    {
     "data": {
      "text/html": [
       "<div>\n",
       "<style scoped>\n",
       "    .dataframe tbody tr th:only-of-type {\n",
       "        vertical-align: middle;\n",
       "    }\n",
       "\n",
       "    .dataframe tbody tr th {\n",
       "        vertical-align: top;\n",
       "    }\n",
       "\n",
       "    .dataframe thead th {\n",
       "        text-align: right;\n",
       "    }\n",
       "</style>\n",
       "<table border=\"1\" class=\"dataframe\">\n",
       "  <thead>\n",
       "    <tr style=\"text-align: right;\">\n",
       "      <th></th>\n",
       "      <th>Applicant_ID</th>\n",
       "      <th>form_field1</th>\n",
       "      <th>form_field2</th>\n",
       "      <th>form_field3</th>\n",
       "      <th>form_field4</th>\n",
       "      <th>form_field5</th>\n",
       "      <th>form_field6</th>\n",
       "      <th>form_field7</th>\n",
       "      <th>form_field8</th>\n",
       "      <th>form_field9</th>\n",
       "      <th>...</th>\n",
       "      <th>form_field41</th>\n",
       "      <th>form_field42</th>\n",
       "      <th>form_field43</th>\n",
       "      <th>form_field44</th>\n",
       "      <th>form_field45</th>\n",
       "      <th>form_field46</th>\n",
       "      <th>form_field47</th>\n",
       "      <th>form_field48</th>\n",
       "      <th>form_field49</th>\n",
       "      <th>form_field50</th>\n",
       "    </tr>\n",
       "  </thead>\n",
       "  <tbody>\n",
       "    <tr>\n",
       "      <th>0</th>\n",
       "      <td>Apcnt_1000000</td>\n",
       "      <td>3436.0</td>\n",
       "      <td>0.28505</td>\n",
       "      <td>1.6560</td>\n",
       "      <td>0.0000</td>\n",
       "      <td>0.000</td>\n",
       "      <td>0.0</td>\n",
       "      <td>10689720.0</td>\n",
       "      <td>252072.0</td>\n",
       "      <td>4272776.0</td>\n",
       "      <td>...</td>\n",
       "      <td>118.4415</td>\n",
       "      <td>0.392854</td>\n",
       "      <td>2.02</td>\n",
       "      <td>0.711632</td>\n",
       "      <td>0.0</td>\n",
       "      <td>0.0</td>\n",
       "      <td>1</td>\n",
       "      <td>318.124292</td>\n",
       "      <td>1.129518</td>\n",
       "      <td>0.044335</td>\n",
       "    </tr>\n",
       "    <tr>\n",
       "      <th>1</th>\n",
       "      <td>Apcnt_1000004</td>\n",
       "      <td>3456.0</td>\n",
       "      <td>0.67400</td>\n",
       "      <td>0.2342</td>\n",
       "      <td>0.0000</td>\n",
       "      <td>0.000</td>\n",
       "      <td>0.0</td>\n",
       "      <td>898979.0</td>\n",
       "      <td>497531.0</td>\n",
       "      <td>9073814.0</td>\n",
       "      <td>...</td>\n",
       "      <td>118.4415</td>\n",
       "      <td>0.314281</td>\n",
       "      <td>8.08</td>\n",
       "      <td>0.183584</td>\n",
       "      <td>0.0</td>\n",
       "      <td>0.0</td>\n",
       "      <td>1</td>\n",
       "      <td>349.805730</td>\n",
       "      <td>1.620483</td>\n",
       "      <td>0.322436</td>\n",
       "    </tr>\n",
       "    <tr>\n",
       "      <th>2</th>\n",
       "      <td>Apcnt_1000008</td>\n",
       "      <td>3276.0</td>\n",
       "      <td>0.53845</td>\n",
       "      <td>3.1510</td>\n",
       "      <td>0.0000</td>\n",
       "      <td>6.282</td>\n",
       "      <td>115533.0</td>\n",
       "      <td>956940.0</td>\n",
       "      <td>963942.0</td>\n",
       "      <td>192944.0</td>\n",
       "      <td>...</td>\n",
       "      <td>118.4415</td>\n",
       "      <td>0.162965</td>\n",
       "      <td>18.18</td>\n",
       "      <td>0.791136</td>\n",
       "      <td>0.0</td>\n",
       "      <td>0.0</td>\n",
       "      <td>1</td>\n",
       "      <td>318.124292</td>\n",
       "      <td>1.513370</td>\n",
       "      <td>0.011640</td>\n",
       "    </tr>\n",
       "    <tr>\n",
       "      <th>3</th>\n",
       "      <td>Apcnt_1000012</td>\n",
       "      <td>3372.0</td>\n",
       "      <td>0.17005</td>\n",
       "      <td>0.5050</td>\n",
       "      <td>0.0000</td>\n",
       "      <td>0.000</td>\n",
       "      <td>192166.0</td>\n",
       "      <td>3044703.0</td>\n",
       "      <td>385499.0</td>\n",
       "      <td>3986472.0</td>\n",
       "      <td>...</td>\n",
       "      <td>118.4415</td>\n",
       "      <td>0.488884</td>\n",
       "      <td>2.02</td>\n",
       "      <td>0.685168</td>\n",
       "      <td>0.0</td>\n",
       "      <td>0.0</td>\n",
       "      <td>1</td>\n",
       "      <td>89.940100</td>\n",
       "      <td>0.664452</td>\n",
       "      <td>0.082729</td>\n",
       "    </tr>\n",
       "    <tr>\n",
       "      <th>4</th>\n",
       "      <td>Apcnt_1000016</td>\n",
       "      <td>3370.0</td>\n",
       "      <td>0.77270</td>\n",
       "      <td>1.1010</td>\n",
       "      <td>0.0000</td>\n",
       "      <td>0.000</td>\n",
       "      <td>1556.0</td>\n",
       "      <td>214728.0</td>\n",
       "      <td>214728.0</td>\n",
       "      <td>1284089.0</td>\n",
       "      <td>...</td>\n",
       "      <td>118.4415</td>\n",
       "      <td>0.275000</td>\n",
       "      <td>12.12</td>\n",
       "      <td>0.438168</td>\n",
       "      <td>0.0</td>\n",
       "      <td>0.0</td>\n",
       "      <td>1</td>\n",
       "      <td>97.887502</td>\n",
       "      <td>1.427891</td>\n",
       "      <td>0.045630</td>\n",
       "    </tr>\n",
       "    <tr>\n",
       "      <th>...</th>\n",
       "      <td>...</td>\n",
       "      <td>...</td>\n",
       "      <td>...</td>\n",
       "      <td>...</td>\n",
       "      <td>...</td>\n",
       "      <td>...</td>\n",
       "      <td>...</td>\n",
       "      <td>...</td>\n",
       "      <td>...</td>\n",
       "      <td>...</td>\n",
       "      <td>...</td>\n",
       "      <td>...</td>\n",
       "      <td>...</td>\n",
       "      <td>...</td>\n",
       "      <td>...</td>\n",
       "      <td>...</td>\n",
       "      <td>...</td>\n",
       "      <td>...</td>\n",
       "      <td>...</td>\n",
       "      <td>...</td>\n",
       "      <td>...</td>\n",
       "    </tr>\n",
       "    <tr>\n",
       "      <th>55995</th>\n",
       "      <td>Apcnt_999968</td>\n",
       "      <td>3740.0</td>\n",
       "      <td>0.01730</td>\n",
       "      <td>0.0000</td>\n",
       "      <td>0.0000</td>\n",
       "      <td>0.000</td>\n",
       "      <td>770998.0</td>\n",
       "      <td>9637475.0</td>\n",
       "      <td>4047934.0</td>\n",
       "      <td>11641992.0</td>\n",
       "      <td>...</td>\n",
       "      <td>118.4415</td>\n",
       "      <td>0.000000</td>\n",
       "      <td>9.09</td>\n",
       "      <td>0.730040</td>\n",
       "      <td>0.0</td>\n",
       "      <td>0.0</td>\n",
       "      <td>2</td>\n",
       "      <td>591.048913</td>\n",
       "      <td>0.000000</td>\n",
       "      <td>0.241598</td>\n",
       "    </tr>\n",
       "    <tr>\n",
       "      <th>55996</th>\n",
       "      <td>Apcnt_999972</td>\n",
       "      <td>3360.0</td>\n",
       "      <td>2.01145</td>\n",
       "      <td>0.6252</td>\n",
       "      <td>0.0000</td>\n",
       "      <td>0.000</td>\n",
       "      <td>115533.0</td>\n",
       "      <td>927765.0</td>\n",
       "      <td>963942.0</td>\n",
       "      <td>5506295.0</td>\n",
       "      <td>...</td>\n",
       "      <td>136.5135</td>\n",
       "      <td>0.297913</td>\n",
       "      <td>30.30</td>\n",
       "      <td>0.498208</td>\n",
       "      <td>0.0</td>\n",
       "      <td>0.0</td>\n",
       "      <td>2</td>\n",
       "      <td>318.124292</td>\n",
       "      <td>0.000000</td>\n",
       "      <td>0.170400</td>\n",
       "    </tr>\n",
       "    <tr>\n",
       "      <th>55997</th>\n",
       "      <td>Apcnt_999980</td>\n",
       "      <td>3500.0</td>\n",
       "      <td>0.76640</td>\n",
       "      <td>0.0000</td>\n",
       "      <td>0.0000</td>\n",
       "      <td>0.000</td>\n",
       "      <td>118645.0</td>\n",
       "      <td>3662435.0</td>\n",
       "      <td>3662435.0</td>\n",
       "      <td>3585024.0</td>\n",
       "      <td>...</td>\n",
       "      <td>118.4415</td>\n",
       "      <td>0.550000</td>\n",
       "      <td>3.03</td>\n",
       "      <td>0.450512</td>\n",
       "      <td>0.0</td>\n",
       "      <td>0.0</td>\n",
       "      <td>2</td>\n",
       "      <td>1252.474467</td>\n",
       "      <td>2.000000</td>\n",
       "      <td>0.163153</td>\n",
       "    </tr>\n",
       "    <tr>\n",
       "      <th>55998</th>\n",
       "      <td>Apcnt_999988</td>\n",
       "      <td>3280.0</td>\n",
       "      <td>0.05235</td>\n",
       "      <td>2.0916</td>\n",
       "      <td>2.2212</td>\n",
       "      <td>0.000</td>\n",
       "      <td>115533.0</td>\n",
       "      <td>3458599.0</td>\n",
       "      <td>963942.0</td>\n",
       "      <td>115533.0</td>\n",
       "      <td>...</td>\n",
       "      <td>150.0000</td>\n",
       "      <td>0.942854</td>\n",
       "      <td>0.00</td>\n",
       "      <td>0.705048</td>\n",
       "      <td>1.0</td>\n",
       "      <td>0.0</td>\n",
       "      <td>1</td>\n",
       "      <td>318.124292</td>\n",
       "      <td>0.000000</td>\n",
       "      <td>0.002997</td>\n",
       "    </tr>\n",
       "    <tr>\n",
       "      <th>55999</th>\n",
       "      <td>Apcnt_999996</td>\n",
       "      <td>3522.0</td>\n",
       "      <td>0.46930</td>\n",
       "      <td>0.0000</td>\n",
       "      <td>0.0000</td>\n",
       "      <td>0.000</td>\n",
       "      <td>98806.0</td>\n",
       "      <td>2053920.0</td>\n",
       "      <td>523983.0</td>\n",
       "      <td>14903368.0</td>\n",
       "      <td>...</td>\n",
       "      <td>118.4415</td>\n",
       "      <td>0.000000</td>\n",
       "      <td>13.13</td>\n",
       "      <td>0.292424</td>\n",
       "      <td>0.0</td>\n",
       "      <td>0.0</td>\n",
       "      <td>1</td>\n",
       "      <td>4986.188578</td>\n",
       "      <td>3.000000</td>\n",
       "      <td>0.678245</td>\n",
       "    </tr>\n",
       "  </tbody>\n",
       "</table>\n",
       "<p>56000 rows × 51 columns</p>\n",
       "</div>"
      ],
      "text/plain": [
       "        Applicant_ID  form_field1  form_field2  form_field3  form_field4  \\\n",
       "0      Apcnt_1000000       3436.0      0.28505       1.6560       0.0000   \n",
       "1      Apcnt_1000004       3456.0      0.67400       0.2342       0.0000   \n",
       "2      Apcnt_1000008       3276.0      0.53845       3.1510       0.0000   \n",
       "3      Apcnt_1000012       3372.0      0.17005       0.5050       0.0000   \n",
       "4      Apcnt_1000016       3370.0      0.77270       1.1010       0.0000   \n",
       "...              ...          ...          ...          ...          ...   \n",
       "55995   Apcnt_999968       3740.0      0.01730       0.0000       0.0000   \n",
       "55996   Apcnt_999972       3360.0      2.01145       0.6252       0.0000   \n",
       "55997   Apcnt_999980       3500.0      0.76640       0.0000       0.0000   \n",
       "55998   Apcnt_999988       3280.0      0.05235       2.0916       2.2212   \n",
       "55999   Apcnt_999996       3522.0      0.46930       0.0000       0.0000   \n",
       "\n",
       "       form_field5  form_field6  form_field7  form_field8  form_field9  ...  \\\n",
       "0            0.000          0.0   10689720.0     252072.0    4272776.0  ...   \n",
       "1            0.000          0.0     898979.0     497531.0    9073814.0  ...   \n",
       "2            6.282     115533.0     956940.0     963942.0     192944.0  ...   \n",
       "3            0.000     192166.0    3044703.0     385499.0    3986472.0  ...   \n",
       "4            0.000       1556.0     214728.0     214728.0    1284089.0  ...   \n",
       "...            ...          ...          ...          ...          ...  ...   \n",
       "55995        0.000     770998.0    9637475.0    4047934.0   11641992.0  ...   \n",
       "55996        0.000     115533.0     927765.0     963942.0    5506295.0  ...   \n",
       "55997        0.000     118645.0    3662435.0    3662435.0    3585024.0  ...   \n",
       "55998        0.000     115533.0    3458599.0     963942.0     115533.0  ...   \n",
       "55999        0.000      98806.0    2053920.0     523983.0   14903368.0  ...   \n",
       "\n",
       "       form_field41  form_field42  form_field43  form_field44  form_field45  \\\n",
       "0          118.4415      0.392854          2.02      0.711632           0.0   \n",
       "1          118.4415      0.314281          8.08      0.183584           0.0   \n",
       "2          118.4415      0.162965         18.18      0.791136           0.0   \n",
       "3          118.4415      0.488884          2.02      0.685168           0.0   \n",
       "4          118.4415      0.275000         12.12      0.438168           0.0   \n",
       "...             ...           ...           ...           ...           ...   \n",
       "55995      118.4415      0.000000          9.09      0.730040           0.0   \n",
       "55996      136.5135      0.297913         30.30      0.498208           0.0   \n",
       "55997      118.4415      0.550000          3.03      0.450512           0.0   \n",
       "55998      150.0000      0.942854          0.00      0.705048           1.0   \n",
       "55999      118.4415      0.000000         13.13      0.292424           0.0   \n",
       "\n",
       "       form_field46  form_field47  form_field48  form_field49  form_field50  \n",
       "0               0.0             1    318.124292      1.129518      0.044335  \n",
       "1               0.0             1    349.805730      1.620483      0.322436  \n",
       "2               0.0             1    318.124292      1.513370      0.011640  \n",
       "3               0.0             1     89.940100      0.664452      0.082729  \n",
       "4               0.0             1     97.887502      1.427891      0.045630  \n",
       "...             ...           ...           ...           ...           ...  \n",
       "55995           0.0             2    591.048913      0.000000      0.241598  \n",
       "55996           0.0             2    318.124292      0.000000      0.170400  \n",
       "55997           0.0             2   1252.474467      2.000000      0.163153  \n",
       "55998           0.0             1    318.124292      0.000000      0.002997  \n",
       "55999           0.0             1   4986.188578      3.000000      0.678245  \n",
       "\n",
       "[56000 rows x 51 columns]"
      ]
     },
     "execution_count": 35,
     "metadata": {},
     "output_type": "execute_result"
    }
   ],
   "source": [
    "X"
   ]
  },
  {
   "cell_type": "code",
   "execution_count": 36,
   "metadata": {
    "colab": {
     "base_uri": "https://localhost:8080/",
     "height": 233
    },
    "executionInfo": {
     "elapsed": 8503,
     "status": "ok",
     "timestamp": 1601416892167,
     "user": {
      "displayName": "Yusuf Qoyum",
      "photoUrl": "https://lh3.googleusercontent.com/a-/AOh14GiyMZDHMA83WHyx74m-go4USTgeDx8VJc5EZNmqAA=s64",
      "userId": "07920877335192967897"
     },
     "user_tz": -60
    },
    "id": "wWlqdO5SbiWy",
    "outputId": "998b0d5a-722f-410d-e318-5c95f2c6a0dc"
   },
   "outputs": [
    {
     "data": {
      "text/plain": [
       "0        0\n",
       "1        0\n",
       "2        1\n",
       "3        0\n",
       "4        0\n",
       "        ..\n",
       "55995    0\n",
       "55996    1\n",
       "55997    0\n",
       "55998    0\n",
       "55999    0\n",
       "Name: default_status, Length: 56000, dtype: int64"
      ]
     },
     "execution_count": 36,
     "metadata": {},
     "output_type": "execute_result"
    }
   ],
   "source": [
    "y"
   ]
  },
  {
   "cell_type": "markdown",
   "metadata": {
    "id": "mCZYpdSmexaM"
   },
   "source": [
    "Now, to anticipate a effective model, we need to carry out some certain operations on it, part of it trying to make our data normally distributed by doing the natural logarithm function on it."
   ]
  },
  {
   "cell_type": "code",
   "execution_count": 37,
   "metadata": {
    "colab": {
     "base_uri": "https://localhost:8080/",
     "height": 162
    },
    "executionInfo": {
     "elapsed": 8481,
     "status": "ok",
     "timestamp": 1601416892168,
     "user": {
      "displayName": "Yusuf Qoyum",
      "photoUrl": "https://lh3.googleusercontent.com/a-/AOh14GiyMZDHMA83WHyx74m-go4USTgeDx8VJc5EZNmqAA=s64",
      "userId": "07920877335192967897"
     },
     "user_tz": -60
    },
    "id": "E0Vxr2gmKaxZ",
    "outputId": "3d3ec22a-8fbe-4c54-8b51-e555eeb52f13"
   },
   "outputs": [
    {
     "data": {
      "text/html": [
       "<div>\n",
       "<style scoped>\n",
       "    .dataframe tbody tr th:only-of-type {\n",
       "        vertical-align: middle;\n",
       "    }\n",
       "\n",
       "    .dataframe tbody tr th {\n",
       "        vertical-align: top;\n",
       "    }\n",
       "\n",
       "    .dataframe thead th {\n",
       "        text-align: right;\n",
       "    }\n",
       "</style>\n",
       "<table border=\"1\" class=\"dataframe\">\n",
       "  <thead>\n",
       "    <tr style=\"text-align: right;\">\n",
       "      <th></th>\n",
       "      <th>Applicant_ID</th>\n",
       "      <th>form_field1</th>\n",
       "      <th>form_field2</th>\n",
       "      <th>form_field3</th>\n",
       "      <th>form_field4</th>\n",
       "      <th>form_field5</th>\n",
       "      <th>form_field6</th>\n",
       "      <th>form_field7</th>\n",
       "      <th>form_field8</th>\n",
       "      <th>form_field9</th>\n",
       "      <th>...</th>\n",
       "      <th>form_field41</th>\n",
       "      <th>form_field42</th>\n",
       "      <th>form_field43</th>\n",
       "      <th>form_field44</th>\n",
       "      <th>form_field45</th>\n",
       "      <th>form_field46</th>\n",
       "      <th>form_field47</th>\n",
       "      <th>form_field48</th>\n",
       "      <th>form_field49</th>\n",
       "      <th>form_field50</th>\n",
       "    </tr>\n",
       "  </thead>\n",
       "  <tbody>\n",
       "    <tr>\n",
       "      <th>0</th>\n",
       "      <td>Apcnt_1000000</td>\n",
       "      <td>3436.0</td>\n",
       "      <td>0.28505</td>\n",
       "      <td>1.6560</td>\n",
       "      <td>0.0</td>\n",
       "      <td>0.000</td>\n",
       "      <td>0.0</td>\n",
       "      <td>10689720.0</td>\n",
       "      <td>252072.0</td>\n",
       "      <td>4272776.0</td>\n",
       "      <td>...</td>\n",
       "      <td>118.4415</td>\n",
       "      <td>0.392854</td>\n",
       "      <td>2.02</td>\n",
       "      <td>0.711632</td>\n",
       "      <td>0.0</td>\n",
       "      <td>0.0</td>\n",
       "      <td>1</td>\n",
       "      <td>318.124292</td>\n",
       "      <td>1.129518</td>\n",
       "      <td>0.044335</td>\n",
       "    </tr>\n",
       "    <tr>\n",
       "      <th>1</th>\n",
       "      <td>Apcnt_1000004</td>\n",
       "      <td>3456.0</td>\n",
       "      <td>0.67400</td>\n",
       "      <td>0.2342</td>\n",
       "      <td>0.0</td>\n",
       "      <td>0.000</td>\n",
       "      <td>0.0</td>\n",
       "      <td>898979.0</td>\n",
       "      <td>497531.0</td>\n",
       "      <td>9073814.0</td>\n",
       "      <td>...</td>\n",
       "      <td>118.4415</td>\n",
       "      <td>0.314281</td>\n",
       "      <td>8.08</td>\n",
       "      <td>0.183584</td>\n",
       "      <td>0.0</td>\n",
       "      <td>0.0</td>\n",
       "      <td>1</td>\n",
       "      <td>349.805730</td>\n",
       "      <td>1.620483</td>\n",
       "      <td>0.322436</td>\n",
       "    </tr>\n",
       "    <tr>\n",
       "      <th>2</th>\n",
       "      <td>Apcnt_1000008</td>\n",
       "      <td>3276.0</td>\n",
       "      <td>0.53845</td>\n",
       "      <td>3.1510</td>\n",
       "      <td>0.0</td>\n",
       "      <td>6.282</td>\n",
       "      <td>115533.0</td>\n",
       "      <td>956940.0</td>\n",
       "      <td>963942.0</td>\n",
       "      <td>192944.0</td>\n",
       "      <td>...</td>\n",
       "      <td>118.4415</td>\n",
       "      <td>0.162965</td>\n",
       "      <td>18.18</td>\n",
       "      <td>0.791136</td>\n",
       "      <td>0.0</td>\n",
       "      <td>0.0</td>\n",
       "      <td>1</td>\n",
       "      <td>318.124292</td>\n",
       "      <td>1.513370</td>\n",
       "      <td>0.011640</td>\n",
       "    </tr>\n",
       "  </tbody>\n",
       "</table>\n",
       "<p>3 rows × 51 columns</p>\n",
       "</div>"
      ],
      "text/plain": [
       "    Applicant_ID  form_field1  form_field2  form_field3  form_field4  \\\n",
       "0  Apcnt_1000000       3436.0      0.28505       1.6560          0.0   \n",
       "1  Apcnt_1000004       3456.0      0.67400       0.2342          0.0   \n",
       "2  Apcnt_1000008       3276.0      0.53845       3.1510          0.0   \n",
       "\n",
       "   form_field5  form_field6  form_field7  form_field8  form_field9  ...  \\\n",
       "0        0.000          0.0   10689720.0     252072.0    4272776.0  ...   \n",
       "1        0.000          0.0     898979.0     497531.0    9073814.0  ...   \n",
       "2        6.282     115533.0     956940.0     963942.0     192944.0  ...   \n",
       "\n",
       "   form_field41  form_field42  form_field43  form_field44  form_field45  \\\n",
       "0      118.4415      0.392854          2.02      0.711632           0.0   \n",
       "1      118.4415      0.314281          8.08      0.183584           0.0   \n",
       "2      118.4415      0.162965         18.18      0.791136           0.0   \n",
       "\n",
       "   form_field46  form_field47  form_field48  form_field49  form_field50  \n",
       "0           0.0             1    318.124292      1.129518      0.044335  \n",
       "1           0.0             1    349.805730      1.620483      0.322436  \n",
       "2           0.0             1    318.124292      1.513370      0.011640  \n",
       "\n",
       "[3 rows x 51 columns]"
      ]
     },
     "execution_count": 37,
     "metadata": {},
     "output_type": "execute_result"
    }
   ],
   "source": [
    "X.head(3)"
   ]
  },
  {
   "cell_type": "code",
   "execution_count": 38,
   "metadata": {
    "executionInfo": {
     "elapsed": 8819,
     "status": "ok",
     "timestamp": 1601416892512,
     "user": {
      "displayName": "Yusuf Qoyum",
      "photoUrl": "https://lh3.googleusercontent.com/a-/AOh14GiyMZDHMA83WHyx74m-go4USTgeDx8VJc5EZNmqAA=s64",
      "userId": "07920877335192967897"
     },
     "user_tz": -60
    },
    "id": "kNWzjo6qKzdm"
   },
   "outputs": [],
   "source": [
    "train_, app_id = X.drop(columns=['Applicant_ID']), X['Applicant_ID']\n"
   ]
  },
  {
   "cell_type": "code",
   "execution_count": 39,
   "metadata": {
    "executionInfo": {
     "elapsed": 8816,
     "status": "ok",
     "timestamp": 1601416892514,
     "user": {
      "displayName": "Yusuf Qoyum",
      "photoUrl": "https://lh3.googleusercontent.com/a-/AOh14GiyMZDHMA83WHyx74m-go4USTgeDx8VJc5EZNmqAA=s64",
      "userId": "07920877335192967897"
     },
     "user_tz": -60
    },
    "id": "60mH9FoRswEX"
   },
   "outputs": [],
   "source": [
    "test_, app_id1 = we_test_now.drop(columns=['Applicant_ID']), we_test_now['Applicant_ID']"
   ]
  },
  {
   "cell_type": "code",
   "execution_count": 40,
   "metadata": {
    "colab": {
     "base_uri": "https://localhost:8080/",
     "height": 35
    },
    "executionInfo": {
     "elapsed": 8791,
     "status": "ok",
     "timestamp": 1601416892515,
     "user": {
      "displayName": "Yusuf Qoyum",
      "photoUrl": "https://lh3.googleusercontent.com/a-/AOh14GiyMZDHMA83WHyx74m-go4USTgeDx8VJc5EZNmqAA=s64",
      "userId": "07920877335192967897"
     },
     "user_tz": -60
    },
    "id": "8aSIiIPm_DyM",
    "outputId": "22f9fe7e-115a-4607-d005-c956cee8a93f"
   },
   "outputs": [
    {
     "data": {
      "text/plain": [
       "(56000, 50)"
      ]
     },
     "execution_count": 40,
     "metadata": {},
     "output_type": "execute_result"
    }
   ],
   "source": [
    "train_.shape"
   ]
  },
  {
   "cell_type": "code",
   "execution_count": 41,
   "metadata": {
    "colab": {
     "base_uri": "https://localhost:8080/",
     "height": 35
    },
    "executionInfo": {
     "elapsed": 8757,
     "status": "ok",
     "timestamp": 1601416892516,
     "user": {
      "displayName": "Yusuf Qoyum",
      "photoUrl": "https://lh3.googleusercontent.com/a-/AOh14GiyMZDHMA83WHyx74m-go4USTgeDx8VJc5EZNmqAA=s64",
      "userId": "07920877335192967897"
     },
     "user_tz": -60
    },
    "id": "YsG6F3ZA_OTW",
    "outputId": "f4f1a825-d3fc-4dc3-a6b5-3feb717fdc6e"
   },
   "outputs": [
    {
     "data": {
      "text/plain": [
       "(56000,)"
      ]
     },
     "execution_count": 41,
     "metadata": {},
     "output_type": "execute_result"
    }
   ],
   "source": [
    "app_id.shape"
   ]
  },
  {
   "cell_type": "markdown",
   "metadata": {
    "id": "S4dMVt5Yocj5"
   },
   "source": [
    "Applicant_ID was dropped because it's a string and the distplot() function wont work on it."
   ]
  },
  {
   "cell_type": "code",
   "execution_count": 42,
   "metadata": {
    "colab": {
     "base_uri": "https://localhost:8080/",
     "height": 345
    },
    "executionInfo": {
     "elapsed": 25126,
     "status": "ok",
     "timestamp": 1601416908910,
     "user": {
      "displayName": "Yusuf Qoyum",
      "photoUrl": "https://lh3.googleusercontent.com/a-/AOh14GiyMZDHMA83WHyx74m-go4USTgeDx8VJc5EZNmqAA=s64",
      "userId": "07920877335192967897"
     },
     "user_tz": -60
    },
    "id": "GO0M8RdK6nvG",
    "outputId": "c563340d-4b80-4ddb-e0bf-077a026cd78e"
   },
   "outputs": [
    {
     "name": "stderr",
     "output_type": "stream",
     "text": [
      "/home/wizardcalidad/.local/lib/python3.8/site-packages/seaborn/distributions.py:2551: FutureWarning: `distplot` is a deprecated function and will be removed in a future version. Please adapt your code to use either `displot` (a figure-level function with similar flexibility) or `histplot` (an axes-level function for histograms).\n",
      "  warnings.warn(msg, FutureWarning)\n"
     ]
    },
    {
     "data": {
      "image/png": "[encoded data removed]",
      "text/plain": [
       "<Figure size 432x288 with 1 Axes>"
      ]
     },
     "metadata": {
      "needs_background": "light"
     },
     "output_type": "display_data"
    }
   ],
   "source": [
    "sns.distplot(train_)\n",
    "plt.show()"
   ]
  },
  {
   "cell_type": "code",
   "execution_count": 43,
   "metadata": {
    "colab": {
     "base_uri": "https://localhost:8080/",
     "height": 345
    },
    "executionInfo": {
     "elapsed": 32490,
     "status": "ok",
     "timestamp": 1601416916303,
     "user": {
      "displayName": "Yusuf Qoyum",
      "photoUrl": "https://lh3.googleusercontent.com/a-/AOh14GiyMZDHMA83WHyx74m-go4USTgeDx8VJc5EZNmqAA=s64",
      "userId": "07920877335192967897"
     },
     "user_tz": -60
    },
    "id": "wRT_zPZutLGg",
    "outputId": "e633942d-3915-49a4-dbc5-97e6fa589c43"
   },
   "outputs": [
    {
     "name": "stderr",
     "output_type": "stream",
     "text": [
      "/home/wizardcalidad/.local/lib/python3.8/site-packages/seaborn/distributions.py:2551: FutureWarning: `distplot` is a deprecated function and will be removed in a future version. Please adapt your code to use either `displot` (a figure-level function with similar flexibility) or `histplot` (an axes-level function for histograms).\n",
      "  warnings.warn(msg, FutureWarning)\n"
     ]
    },
    {
     "data": {
      "image/png": "[encoded data removed]",
      "text/plain": [
       "<Figure size 432x288 with 1 Axes>"
      ]
     },
     "metadata": {
      "needs_background": "light"
     },
     "output_type": "display_data"
    }
   ],
   "source": [
    "sns.distplot(test_)\n",
    "plt.show()"
   ]
  },
  {
   "cell_type": "code",
   "execution_count": 44,
   "metadata": {
    "colab": {
     "base_uri": "https://localhost:8080/",
     "height": 321
    },
    "executionInfo": {
     "elapsed": 50244,
     "status": "ok",
     "timestamp": 1601416934081,
     "user": {
      "displayName": "Yusuf Qoyum",
      "photoUrl": "https://lh3.googleusercontent.com/a-/AOh14GiyMZDHMA83WHyx74m-go4USTgeDx8VJc5EZNmqAA=s64",
      "userId": "07920877335192967897"
     },
     "user_tz": -60
    },
    "id": "gfZeK3tkd320",
    "outputId": "90712541-4423-479c-b7be-1e220a32e09d"
   },
   "outputs": [
    {
     "name": "stderr",
     "output_type": "stream",
     "text": [
      "/home/wizardcalidad/.local/lib/python3.8/site-packages/seaborn/distributions.py:2551: FutureWarning: `distplot` is a deprecated function and will be removed in a future version. Please adapt your code to use either `displot` (a figure-level function with similar flexibility) or `histplot` (an axes-level function for histograms).\n",
      "  warnings.warn(msg, FutureWarning)\n"
     ]
    },
    {
     "data": {
      "image/png": "[encoded data removed]",
      "text/plain": [
       "<Figure size 432x288 with 1 Axes>"
      ]
     },
     "metadata": {
      "needs_background": "light"
     },
     "output_type": "display_data"
    }
   ],
   "source": [
    "X = np.log1p(train_)\n",
    "sns.distplot(X)\n",
    "plt.show()"
   ]
  },
  {
   "cell_type": "code",
   "execution_count": 45,
   "metadata": {
    "colab": {
     "base_uri": "https://localhost:8080/",
     "height": 321
    },
    "executionInfo": {
     "elapsed": 58802,
     "status": "ok",
     "timestamp": 1601416942666,
     "user": {
      "displayName": "Yusuf Qoyum",
      "photoUrl": "https://lh3.googleusercontent.com/a-/AOh14GiyMZDHMA83WHyx74m-go4USTgeDx8VJc5EZNmqAA=s64",
      "userId": "07920877335192967897"
     },
     "user_tz": -60
    },
    "id": "8RD6r8j5tYJb",
    "outputId": "d676bfa6-d96b-44ad-f97a-54157183484e"
   },
   "outputs": [
    {
     "name": "stderr",
     "output_type": "stream",
     "text": [
      "/home/wizardcalidad/.local/lib/python3.8/site-packages/seaborn/distributions.py:2551: FutureWarning: `distplot` is a deprecated function and will be removed in a future version. Please adapt your code to use either `displot` (a figure-level function with similar flexibility) or `histplot` (an axes-level function for histograms).\n",
      "  warnings.warn(msg, FutureWarning)\n"
     ]
    },
    {
     "data": {
      "image/png": "[encoded data removed]",
      "text/plain": [
       "<Figure size 432x288 with 1 Axes>"
      ]
     },
     "metadata": {
      "needs_background": "light"
     },
     "output_type": "display_data"
    }
   ],
   "source": [
    "we_test_new = np.log1p(test_)\n",
    "sns.distplot(we_test_new)\n",
    "plt.show()"
   ]
  },
  {
   "cell_type": "markdown",
   "metadata": {
    "id": "P1hlFe5vjeSf"
   },
   "source": [
    "We will hence look for outliers in our datasets.\n",
    "\n",
    "There are plenty of them already as you see."
   ]
  },
  {
   "cell_type": "code",
   "execution_count": 46,
   "metadata": {
    "colab": {
     "base_uri": "https://localhost:8080/",
     "height": 162
    },
    "executionInfo": {
     "elapsed": 58775,
     "status": "ok",
     "timestamp": 1601416942667,
     "user": {
      "displayName": "Yusuf Qoyum",
      "photoUrl": "https://lh3.googleusercontent.com/a-/AOh14GiyMZDHMA83WHyx74m-go4USTgeDx8VJc5EZNmqAA=s64",
      "userId": "07920877335192967897"
     },
     "user_tz": -60
    },
    "id": "-PguLOzGihRz",
    "outputId": "a1fed96d-840a-4ef5-8a93-b6819fc55497"
   },
   "outputs": [
    {
     "data": {
      "text/html": [
       "<div>\n",
       "<style scoped>\n",
       "    .dataframe tbody tr th:only-of-type {\n",
       "        vertical-align: middle;\n",
       "    }\n",
       "\n",
       "    .dataframe tbody tr th {\n",
       "        vertical-align: top;\n",
       "    }\n",
       "\n",
       "    .dataframe thead th {\n",
       "        text-align: right;\n",
       "    }\n",
       "</style>\n",
       "<table border=\"1\" class=\"dataframe\">\n",
       "  <thead>\n",
       "    <tr style=\"text-align: right;\">\n",
       "      <th></th>\n",
       "      <th>form_field1</th>\n",
       "      <th>form_field2</th>\n",
       "      <th>form_field3</th>\n",
       "      <th>form_field4</th>\n",
       "      <th>form_field5</th>\n",
       "      <th>form_field6</th>\n",
       "      <th>form_field7</th>\n",
       "      <th>form_field8</th>\n",
       "      <th>form_field9</th>\n",
       "      <th>form_field10</th>\n",
       "      <th>...</th>\n",
       "      <th>form_field41</th>\n",
       "      <th>form_field42</th>\n",
       "      <th>form_field43</th>\n",
       "      <th>form_field44</th>\n",
       "      <th>form_field45</th>\n",
       "      <th>form_field46</th>\n",
       "      <th>form_field47</th>\n",
       "      <th>form_field48</th>\n",
       "      <th>form_field49</th>\n",
       "      <th>form_field50</th>\n",
       "    </tr>\n",
       "  </thead>\n",
       "  <tbody>\n",
       "    <tr>\n",
       "      <th>count</th>\n",
       "      <td>56000.000000</td>\n",
       "      <td>56000.000000</td>\n",
       "      <td>56000.000000</td>\n",
       "      <td>56000.000000</td>\n",
       "      <td>56000.000000</td>\n",
       "      <td>56000.000000</td>\n",
       "      <td>56000.000000</td>\n",
       "      <td>56000.000000</td>\n",
       "      <td>56000.000000</td>\n",
       "      <td>56000.000000</td>\n",
       "      <td>...</td>\n",
       "      <td>56000.000000</td>\n",
       "      <td>56000.000000</td>\n",
       "      <td>56000.000000</td>\n",
       "      <td>56000.000000</td>\n",
       "      <td>56000.000000</td>\n",
       "      <td>56000.000000</td>\n",
       "      <td>56000.000000</td>\n",
       "      <td>56000.000000</td>\n",
       "      <td>56000.000000</td>\n",
       "      <td>56000.000000</td>\n",
       "    </tr>\n",
       "    <tr>\n",
       "      <th>mean</th>\n",
       "      <td>8.156968</td>\n",
       "      <td>0.348111</td>\n",
       "      <td>0.445610</td>\n",
       "      <td>0.221124</td>\n",
       "      <td>0.232682</td>\n",
       "      <td>10.395727</td>\n",
       "      <td>14.086571</td>\n",
       "      <td>13.228307</td>\n",
       "      <td>15.268675</td>\n",
       "      <td>13.217302</td>\n",
       "      <td>...</td>\n",
       "      <td>4.719113</td>\n",
       "      <td>0.271711</td>\n",
       "      <td>1.664201</td>\n",
       "      <td>0.440815</td>\n",
       "      <td>0.021158</td>\n",
       "      <td>0.044851</td>\n",
       "      <td>0.835255</td>\n",
       "      <td>6.041331</td>\n",
       "      <td>0.472158</td>\n",
       "      <td>0.586795</td>\n",
       "    </tr>\n",
       "    <tr>\n",
       "      <th>std</th>\n",
       "      <td>0.052702</td>\n",
       "      <td>0.356016</td>\n",
       "      <td>0.638379</td>\n",
       "      <td>0.638540</td>\n",
       "      <td>0.798896</td>\n",
       "      <td>4.343351</td>\n",
       "      <td>3.227307</td>\n",
       "      <td>2.899934</td>\n",
       "      <td>1.899116</td>\n",
       "      <td>5.388685</td>\n",
       "      <td>...</td>\n",
       "      <td>0.350369</td>\n",
       "      <td>0.271884</td>\n",
       "      <td>0.917042</td>\n",
       "      <td>0.125057</td>\n",
       "      <td>0.125290</td>\n",
       "      <td>0.181081</td>\n",
       "      <td>0.193458</td>\n",
       "      <td>2.657328</td>\n",
       "      <td>0.628247</td>\n",
       "      <td>2.312276</td>\n",
       "    </tr>\n",
       "  </tbody>\n",
       "</table>\n",
       "<p>3 rows × 50 columns</p>\n",
       "</div>"
      ],
      "text/plain": [
       "        form_field1   form_field2   form_field3   form_field4   form_field5  \\\n",
       "count  56000.000000  56000.000000  56000.000000  56000.000000  56000.000000   \n",
       "mean       8.156968      0.348111      0.445610      0.221124      0.232682   \n",
       "std        0.052702      0.356016      0.638379      0.638540      0.798896   \n",
       "\n",
       "        form_field6   form_field7   form_field8   form_field9  form_field10  \\\n",
       "count  56000.000000  56000.000000  56000.000000  56000.000000  56000.000000   \n",
       "mean      10.395727     14.086571     13.228307     15.268675     13.217302   \n",
       "std        4.343351      3.227307      2.899934      1.899116      5.388685   \n",
       "\n",
       "       ...  form_field41  form_field42  form_field43  form_field44  \\\n",
       "count  ...  56000.000000  56000.000000  56000.000000  56000.000000   \n",
       "mean   ...      4.719113      0.271711      1.664201      0.440815   \n",
       "std    ...      0.350369      0.271884      0.917042      0.125057   \n",
       "\n",
       "       form_field45  form_field46  form_field47  form_field48  form_field49  \\\n",
       "count  56000.000000  56000.000000  56000.000000  56000.000000  56000.000000   \n",
       "mean       0.021158      0.044851      0.835255      6.041331      0.472158   \n",
       "std        0.125290      0.181081      0.193458      2.657328      0.628247   \n",
       "\n",
       "       form_field50  \n",
       "count  56000.000000  \n",
       "mean       0.586795  \n",
       "std        2.312276  \n",
       "\n",
       "[3 rows x 50 columns]"
      ]
     },
     "execution_count": 46,
     "metadata": {},
     "output_type": "execute_result"
    }
   ],
   "source": [
    "X.describe().head(3)"
   ]
  },
  {
   "cell_type": "code",
   "execution_count": 47,
   "metadata": {
    "executionInfo": {
     "elapsed": 58773,
     "status": "ok",
     "timestamp": 1601416942669,
     "user": {
      "displayName": "Yusuf Qoyum",
      "photoUrl": "https://lh3.googleusercontent.com/a-/AOh14GiyMZDHMA83WHyx74m-go4USTgeDx8VJc5EZNmqAA=s64",
      "userId": "07920877335192967897"
     },
     "user_tz": -60
    },
    "id": "SpzlkW7mjwBi"
   },
   "outputs": [],
   "source": [
    "Q1 = X.quantile(0.25)\n",
    "Q3 = X.quantile(0.75) #for train dataset\n",
    "\n",
    "q1 = we_test_new.quantile(0.25)\n",
    "q3 = we_test_new.quantile(0.75)     #for test dataset"
   ]
  },
  {
   "cell_type": "markdown",
   "metadata": {
    "id": "jkQIrTEslt2m"
   },
   "source": [
    "Using interquantile range to show the outliers in the train dataset."
   ]
  },
  {
   "cell_type": "code",
   "execution_count": 48,
   "metadata": {
    "colab": {
     "base_uri": "https://localhost:8080/",
     "height": 935
    },
    "executionInfo": {
     "elapsed": 58753,
     "status": "ok",
     "timestamp": 1601416942670,
     "user": {
      "displayName": "Yusuf Qoyum",
      "photoUrl": "https://lh3.googleusercontent.com/a-/AOh14GiyMZDHMA83WHyx74m-go4USTgeDx8VJc5EZNmqAA=s64",
      "userId": "07920877335192967897"
     },
     "user_tz": -60
    },
    "id": "h1u-RVk_lLzR",
    "outputId": "6074c19b-fbfe-46dc-c68f-8b85b6ac5b27"
   },
   "outputs": [
    {
     "data": {
      "text/plain": [
       "form_field1     0.069963\n",
       "form_field2     0.439131\n",
       "form_field3     0.820132\n",
       "form_field4     0.000000\n",
       "form_field5     0.000000\n",
       "form_field6     2.155927\n",
       "form_field7     2.051305\n",
       "form_field8     1.969411\n",
       "form_field9     2.036383\n",
       "form_field10    3.351544\n",
       "form_field11    0.000000\n",
       "form_field12    1.882978\n",
       "form_field13    2.781579\n",
       "form_field14    1.067114\n",
       "form_field15    0.326844\n",
       "form_field16    0.000000\n",
       "form_field17    0.000000\n",
       "form_field18    0.000000\n",
       "form_field19    0.693147\n",
       "form_field20    0.693147\n",
       "form_field21    0.644967\n",
       "form_field22    0.789113\n",
       "form_field23    0.000000\n",
       "form_field24    1.253715\n",
       "form_field25    0.912470\n",
       "form_field26    1.180124\n",
       "form_field27    1.098091\n",
       "form_field28    6.904027\n",
       "form_field29    0.790061\n",
       "form_field30    0.152519\n",
       "form_field31    0.000000\n",
       "form_field32    1.690632\n",
       "form_field33    1.830678\n",
       "form_field34    0.000000\n",
       "form_field35    0.000000\n",
       "form_field36    0.887303\n",
       "form_field37    1.466337\n",
       "form_field38    0.955511\n",
       "form_field39    0.000000\n",
       "form_field40    0.000000\n",
       "form_field41    0.000000\n",
       "form_field42    0.476927\n",
       "form_field43    1.301688\n",
       "form_field44    0.197129\n",
       "form_field45    0.000000\n",
       "form_field46    0.000000\n",
       "form_field47    0.405465\n",
       "form_field48    0.962818\n",
       "form_field49    0.769404\n",
       "form_field50    0.257048\n",
       "dtype: float64"
      ]
     },
     "execution_count": 48,
     "metadata": {},
     "output_type": "execute_result"
    }
   ],
   "source": [
    "IQR = Q3 - Q1\n",
    "IQR"
   ]
  },
  {
   "cell_type": "markdown",
   "metadata": {
    "id": "bBdmJFa2l9ex"
   },
   "source": [
    "Using interquantile range to show the outliers in the test dataset."
   ]
  },
  {
   "cell_type": "code",
   "execution_count": 49,
   "metadata": {
    "colab": {
     "base_uri": "https://localhost:8080/",
     "height": 935
    },
    "executionInfo": {
     "elapsed": 58723,
     "status": "ok",
     "timestamp": 1601416942670,
     "user": {
      "displayName": "Yusuf Qoyum",
      "photoUrl": "https://lh3.googleusercontent.com/a-/AOh14GiyMZDHMA83WHyx74m-go4USTgeDx8VJc5EZNmqAA=s64",
      "userId": "07920877335192967897"
     },
     "user_tz": -60
    },
    "id": "US4Ks4SgljUY",
    "outputId": "e2140c12-a7c2-4739-e0af-046a61f78a4d"
   },
   "outputs": [
    {
     "data": {
      "text/plain": [
       "form_field1     0.071664\n",
       "form_field2     0.442233\n",
       "form_field3     0.829708\n",
       "form_field4     0.000000\n",
       "form_field5     0.000000\n",
       "form_field6     2.187161\n",
       "form_field7     2.072996\n",
       "form_field8     2.102779\n",
       "form_field9     2.068676\n",
       "form_field10    3.413164\n",
       "form_field11    0.000000\n",
       "form_field12    1.913424\n",
       "form_field13    2.788313\n",
       "form_field14    1.067114\n",
       "form_field15    0.342687\n",
       "form_field16    0.000000\n",
       "form_field17    0.000000\n",
       "form_field18    0.000000\n",
       "form_field19    0.693147\n",
       "form_field20    0.693147\n",
       "form_field21    0.644348\n",
       "form_field22    0.790699\n",
       "form_field23    0.000000\n",
       "form_field24    1.287388\n",
       "form_field25    0.929400\n",
       "form_field26    1.180124\n",
       "form_field27    1.130432\n",
       "form_field28    6.904027\n",
       "form_field29    0.803507\n",
       "form_field30    0.142508\n",
       "form_field31    0.000000\n",
       "form_field32    1.699482\n",
       "form_field33    1.838279\n",
       "form_field34    0.000000\n",
       "form_field35    0.000000\n",
       "form_field36    0.887303\n",
       "form_field37    1.466337\n",
       "form_field38    0.955511\n",
       "form_field39    0.000000\n",
       "form_field40    0.000000\n",
       "form_field41    0.000000\n",
       "form_field42    0.477367\n",
       "form_field43    1.206288\n",
       "form_field44    0.195965\n",
       "form_field45    0.000000\n",
       "form_field46    0.000000\n",
       "form_field47    0.405465\n",
       "form_field48    1.020199\n",
       "form_field49    0.804338\n",
       "form_field50    0.255156\n",
       "dtype: float64"
      ]
     },
     "execution_count": 49,
     "metadata": {},
     "output_type": "execute_result"
    }
   ],
   "source": [
    "iqr = q3 - q1\n",
    "\n",
    "iqr"
   ]
  },
  {
   "cell_type": "markdown",
   "metadata": {
    "id": "uvfmEwSEmcfS"
   },
   "source": [
    "If we would better visualize the outliers, using something like boxplot, scatterplot etc would have been better. "
   ]
  },
  {
   "cell_type": "code",
   "execution_count": 50,
   "metadata": {
    "executionInfo": {
     "elapsed": 58719,
     "status": "ok",
     "timestamp": 1601416942671,
     "user": {
      "displayName": "Yusuf Qoyum",
      "photoUrl": "https://lh3.googleusercontent.com/a-/AOh14GiyMZDHMA83WHyx74m-go4USTgeDx8VJc5EZNmqAA=s64",
      "userId": "07920877335192967897"
     },
     "user_tz": -60
    },
    "id": "MDUUA6GvnKx1"
   },
   "outputs": [],
   "source": [
    "# X.boxplot(column='form_field1', by='form_field2')\n",
    "# plt.show()"
   ]
  },
  {
   "cell_type": "markdown",
   "metadata": {
    "id": "iWv00hvsrv1r"
   },
   "source": [
    "In the case of the graph up there, it plotted credit worthiness of an applicant using their risk scores as a metric...there are certain outliers in form of molecules edging lower or higher than the heatmap."
   ]
  },
  {
   "cell_type": "code",
   "execution_count": 51,
   "metadata": {
    "colab": {
     "base_uri": "https://localhost:8080/",
     "height": 388
    },
    "executionInfo": {
     "elapsed": 59346,
     "status": "ok",
     "timestamp": 1601416943322,
     "user": {
      "displayName": "Yusuf Qoyum",
      "photoUrl": "https://lh3.googleusercontent.com/a-/AOh14GiyMZDHMA83WHyx74m-go4USTgeDx8VJc5EZNmqAA=s64",
      "userId": "07920877335192967897"
     },
     "user_tz": -60
    },
    "id": "bT61MR8Mo_n6",
    "outputId": "f845e475-4ba7-422e-c128-5a408254b93f"
   },
   "outputs": [
    {
     "data": {
      "image/png": "[encoded data removed]",
      "text/plain": [
       "<Figure size 864x432 with 1 Axes>"
      ]
     },
     "metadata": {
      "needs_background": "light"
     },
     "output_type": "display_data"
    }
   ],
   "source": [
    "fig, ax = plt.subplots(figsize=(12,6))\n",
    "ax.scatter(X['form_field2'], X['form_field14'])\n",
    "ax.set_xlabel('Risk Score')\n",
    "ax.set_ylabel('Annual Income')\n",
    "plt.show()"
   ]
  },
  {
   "cell_type": "markdown",
   "metadata": {
    "id": "emTD52NQs0-V"
   },
   "source": [
    "Same goes for this visual which is a result of plotting Risk Score against Annual Income of the applicant.\n",
    "\n",
    "Outliers clearly stood out."
   ]
  },
  {
   "cell_type": "markdown",
   "metadata": {
    "id": "g5mO2wwByUEN"
   },
   "source": [
    "Removing the outliers can be extremely adverse on our model so we have to replace it with the median, we didnt use mean because it is affected by outliers too. However, in this case, we would rather look for the 95th and the 5th percentile and change any other value above them to their respective values. A function was written to take care of that."
   ]
  },
  {
   "cell_type": "code",
   "execution_count": 52,
   "metadata": {
    "colab": {
     "base_uri": "https://localhost:8080/",
     "height": 162
    },
    "executionInfo": {
     "elapsed": 59310,
     "status": "ok",
     "timestamp": 1601416943324,
     "user": {
      "displayName": "Yusuf Qoyum",
      "photoUrl": "https://lh3.googleusercontent.com/a-/AOh14GiyMZDHMA83WHyx74m-go4USTgeDx8VJc5EZNmqAA=s64",
      "userId": "07920877335192967897"
     },
     "user_tz": -60
    },
    "id": "V-oRPqiuFYMY",
    "outputId": "3d57c94c-6789-4de8-f17c-29e6e83885b1"
   },
   "outputs": [
    {
     "data": {
      "text/html": [
       "<div>\n",
       "<style scoped>\n",
       "    .dataframe tbody tr th:only-of-type {\n",
       "        vertical-align: middle;\n",
       "    }\n",
       "\n",
       "    .dataframe tbody tr th {\n",
       "        vertical-align: top;\n",
       "    }\n",
       "\n",
       "    .dataframe thead th {\n",
       "        text-align: right;\n",
       "    }\n",
       "</style>\n",
       "<table border=\"1\" class=\"dataframe\">\n",
       "  <thead>\n",
       "    <tr style=\"text-align: right;\">\n",
       "      <th></th>\n",
       "      <th>form_field1</th>\n",
       "      <th>form_field2</th>\n",
       "      <th>form_field3</th>\n",
       "      <th>form_field4</th>\n",
       "      <th>form_field5</th>\n",
       "      <th>form_field6</th>\n",
       "      <th>form_field7</th>\n",
       "      <th>form_field8</th>\n",
       "      <th>form_field9</th>\n",
       "      <th>form_field10</th>\n",
       "      <th>...</th>\n",
       "      <th>form_field41</th>\n",
       "      <th>form_field42</th>\n",
       "      <th>form_field43</th>\n",
       "      <th>form_field44</th>\n",
       "      <th>form_field45</th>\n",
       "      <th>form_field46</th>\n",
       "      <th>form_field47</th>\n",
       "      <th>form_field48</th>\n",
       "      <th>form_field49</th>\n",
       "      <th>form_field50</th>\n",
       "    </tr>\n",
       "  </thead>\n",
       "  <tbody>\n",
       "    <tr>\n",
       "      <th>0</th>\n",
       "      <td>8.142354</td>\n",
       "      <td>0.250798</td>\n",
       "      <td>0.976821</td>\n",
       "      <td>0.0</td>\n",
       "      <td>0.000000</td>\n",
       "      <td>0.00000</td>\n",
       "      <td>16.184793</td>\n",
       "      <td>12.437474</td>\n",
       "      <td>15.267775</td>\n",
       "      <td>16.243241</td>\n",
       "      <td>...</td>\n",
       "      <td>4.782827</td>\n",
       "      <td>0.331355</td>\n",
       "      <td>1.105257</td>\n",
       "      <td>0.537447</td>\n",
       "      <td>0.0</td>\n",
       "      <td>0.0</td>\n",
       "      <td>0.693147</td>\n",
       "      <td>5.765581</td>\n",
       "      <td>0.755896</td>\n",
       "      <td>0.043380</td>\n",
       "    </tr>\n",
       "    <tr>\n",
       "      <th>1</th>\n",
       "      <td>8.148156</td>\n",
       "      <td>0.515216</td>\n",
       "      <td>0.210423</td>\n",
       "      <td>0.0</td>\n",
       "      <td>0.000000</td>\n",
       "      <td>0.00000</td>\n",
       "      <td>13.709016</td>\n",
       "      <td>13.117415</td>\n",
       "      <td>16.020903</td>\n",
       "      <td>14.744982</td>\n",
       "      <td>...</td>\n",
       "      <td>4.782827</td>\n",
       "      <td>0.273290</td>\n",
       "      <td>2.206074</td>\n",
       "      <td>0.168547</td>\n",
       "      <td>0.0</td>\n",
       "      <td>0.0</td>\n",
       "      <td>0.693147</td>\n",
       "      <td>5.860233</td>\n",
       "      <td>0.963359</td>\n",
       "      <td>0.279476</td>\n",
       "    </tr>\n",
       "    <tr>\n",
       "      <th>2</th>\n",
       "      <td>8.094684</td>\n",
       "      <td>0.430775</td>\n",
       "      <td>1.423349</td>\n",
       "      <td>0.0</td>\n",
       "      <td>1.985406</td>\n",
       "      <td>11.65732</td>\n",
       "      <td>13.771497</td>\n",
       "      <td>13.778787</td>\n",
       "      <td>12.170160</td>\n",
       "      <td>13.892347</td>\n",
       "      <td>...</td>\n",
       "      <td>4.782827</td>\n",
       "      <td>0.150973</td>\n",
       "      <td>2.953868</td>\n",
       "      <td>0.582850</td>\n",
       "      <td>0.0</td>\n",
       "      <td>0.0</td>\n",
       "      <td>0.693147</td>\n",
       "      <td>5.765581</td>\n",
       "      <td>0.921625</td>\n",
       "      <td>0.011572</td>\n",
       "    </tr>\n",
       "  </tbody>\n",
       "</table>\n",
       "<p>3 rows × 50 columns</p>\n",
       "</div>"
      ],
      "text/plain": [
       "   form_field1  form_field2  form_field3  form_field4  form_field5  \\\n",
       "0     8.142354     0.250798     0.976821          0.0     0.000000   \n",
       "1     8.148156     0.515216     0.210423          0.0     0.000000   \n",
       "2     8.094684     0.430775     1.423349          0.0     1.985406   \n",
       "\n",
       "   form_field6  form_field7  form_field8  form_field9  form_field10  ...  \\\n",
       "0      0.00000    16.184793    12.437474    15.267775     16.243241  ...   \n",
       "1      0.00000    13.709016    13.117415    16.020903     14.744982  ...   \n",
       "2     11.65732    13.771497    13.778787    12.170160     13.892347  ...   \n",
       "\n",
       "   form_field41  form_field42  form_field43  form_field44  form_field45  \\\n",
       "0      4.782827      0.331355      1.105257      0.537447           0.0   \n",
       "1      4.782827      0.273290      2.206074      0.168547           0.0   \n",
       "2      4.782827      0.150973      2.953868      0.582850           0.0   \n",
       "\n",
       "   form_field46  form_field47  form_field48  form_field49  form_field50  \n",
       "0           0.0      0.693147      5.765581      0.755896      0.043380  \n",
       "1           0.0      0.693147      5.860233      0.963359      0.279476  \n",
       "2           0.0      0.693147      5.765581      0.921625      0.011572  \n",
       "\n",
       "[3 rows x 50 columns]"
      ]
     },
     "execution_count": 52,
     "metadata": {},
     "output_type": "execute_result"
    }
   ],
   "source": [
    "X.head(3)"
   ]
  },
  {
   "cell_type": "code",
   "execution_count": 53,
   "metadata": {
    "executionInfo": {
     "elapsed": 59303,
     "status": "ok",
     "timestamp": 1601416943324,
     "user": {
      "displayName": "Yusuf Qoyum",
      "photoUrl": "https://lh3.googleusercontent.com/a-/AOh14GiyMZDHMA83WHyx74m-go4USTgeDx8VJc5EZNmqAA=s64",
      "userId": "07920877335192967897"
     },
     "user_tz": -60
    },
    "id": "P9Fuh-It9NNT"
   },
   "outputs": [],
   "source": [
    "def fix_outlier(data):\n",
    "  for col in data:\n",
    "    X_low = data[col].quantile(0.05)\n",
    "    X_high = data[col].quantile(0.95)\n",
    "\n",
    "    data[col] = data[col].mask(data[col] > X_high, X_high)\n",
    "    data[col] = data[col].mask(data[col] < X_low, X_low)\n",
    "  \n",
    "  return data"
   ]
  },
  {
   "cell_type": "code",
   "execution_count": 54,
   "metadata": {
    "executionInfo": {
     "elapsed": 59295,
     "status": "ok",
     "timestamp": 1601416943325,
     "user": {
      "displayName": "Yusuf Qoyum",
      "photoUrl": "https://lh3.googleusercontent.com/a-/AOh14GiyMZDHMA83WHyx74m-go4USTgeDx8VJc5EZNmqAA=s64",
      "userId": "07920877335192967897"
     },
     "user_tz": -60
    },
    "id": "INH0KbYV2Mf8"
   },
   "outputs": [],
   "source": [
    "X_ = fix_outlier(X)"
   ]
  },
  {
   "cell_type": "code",
   "execution_count": 55,
   "metadata": {
    "colab": {
     "base_uri": "https://localhost:8080/",
     "height": 131
    },
    "executionInfo": {
     "elapsed": 59839,
     "status": "ok",
     "timestamp": 1601416943893,
     "user": {
      "displayName": "Yusuf Qoyum",
      "photoUrl": "https://lh3.googleusercontent.com/a-/AOh14GiyMZDHMA83WHyx74m-go4USTgeDx8VJc5EZNmqAA=s64",
      "userId": "07920877335192967897"
     },
     "user_tz": -60
    },
    "id": "UZEhBUG0xN-A",
    "outputId": "80aeb11e-bf94-484b-f40d-1dbeb53724f0"
   },
   "outputs": [
    {
     "data": {
      "text/html": [
       "<div>\n",
       "<style scoped>\n",
       "    .dataframe tbody tr th:only-of-type {\n",
       "        vertical-align: middle;\n",
       "    }\n",
       "\n",
       "    .dataframe tbody tr th {\n",
       "        vertical-align: top;\n",
       "    }\n",
       "\n",
       "    .dataframe thead th {\n",
       "        text-align: right;\n",
       "    }\n",
       "</style>\n",
       "<table border=\"1\" class=\"dataframe\">\n",
       "  <thead>\n",
       "    <tr style=\"text-align: right;\">\n",
       "      <th></th>\n",
       "      <th>form_field1</th>\n",
       "      <th>form_field2</th>\n",
       "      <th>form_field3</th>\n",
       "      <th>form_field4</th>\n",
       "      <th>form_field5</th>\n",
       "      <th>form_field6</th>\n",
       "      <th>form_field7</th>\n",
       "      <th>form_field8</th>\n",
       "      <th>form_field9</th>\n",
       "      <th>form_field10</th>\n",
       "      <th>...</th>\n",
       "      <th>form_field41</th>\n",
       "      <th>form_field42</th>\n",
       "      <th>form_field43</th>\n",
       "      <th>form_field44</th>\n",
       "      <th>form_field45</th>\n",
       "      <th>form_field46</th>\n",
       "      <th>form_field47</th>\n",
       "      <th>form_field48</th>\n",
       "      <th>form_field49</th>\n",
       "      <th>form_field50</th>\n",
       "    </tr>\n",
       "  </thead>\n",
       "  <tbody>\n",
       "    <tr>\n",
       "      <th>0</th>\n",
       "      <td>8.142354</td>\n",
       "      <td>0.250798</td>\n",
       "      <td>0.976821</td>\n",
       "      <td>0.0</td>\n",
       "      <td>0.0</td>\n",
       "      <td>0.0</td>\n",
       "      <td>16.184793</td>\n",
       "      <td>12.437474</td>\n",
       "      <td>15.267775</td>\n",
       "      <td>16.243241</td>\n",
       "      <td>...</td>\n",
       "      <td>4.782827</td>\n",
       "      <td>0.331355</td>\n",
       "      <td>1.105257</td>\n",
       "      <td>0.537447</td>\n",
       "      <td>0.0</td>\n",
       "      <td>0.0</td>\n",
       "      <td>0.693147</td>\n",
       "      <td>5.765581</td>\n",
       "      <td>0.755896</td>\n",
       "      <td>0.043380</td>\n",
       "    </tr>\n",
       "    <tr>\n",
       "      <th>1</th>\n",
       "      <td>8.148156</td>\n",
       "      <td>0.515216</td>\n",
       "      <td>0.210423</td>\n",
       "      <td>0.0</td>\n",
       "      <td>0.0</td>\n",
       "      <td>0.0</td>\n",
       "      <td>13.709016</td>\n",
       "      <td>13.117415</td>\n",
       "      <td>16.020903</td>\n",
       "      <td>14.744982</td>\n",
       "      <td>...</td>\n",
       "      <td>4.782827</td>\n",
       "      <td>0.273290</td>\n",
       "      <td>2.206074</td>\n",
       "      <td>0.197465</td>\n",
       "      <td>0.0</td>\n",
       "      <td>0.0</td>\n",
       "      <td>0.693147</td>\n",
       "      <td>5.860233</td>\n",
       "      <td>0.963359</td>\n",
       "      <td>0.279476</td>\n",
       "    </tr>\n",
       "  </tbody>\n",
       "</table>\n",
       "<p>2 rows × 50 columns</p>\n",
       "</div>"
      ],
      "text/plain": [
       "   form_field1  form_field2  form_field3  form_field4  form_field5  \\\n",
       "0     8.142354     0.250798     0.976821          0.0          0.0   \n",
       "1     8.148156     0.515216     0.210423          0.0          0.0   \n",
       "\n",
       "   form_field6  form_field7  form_field8  form_field9  form_field10  ...  \\\n",
       "0          0.0    16.184793    12.437474    15.267775     16.243241  ...   \n",
       "1          0.0    13.709016    13.117415    16.020903     14.744982  ...   \n",
       "\n",
       "   form_field41  form_field42  form_field43  form_field44  form_field45  \\\n",
       "0      4.782827      0.331355      1.105257      0.537447           0.0   \n",
       "1      4.782827      0.273290      2.206074      0.197465           0.0   \n",
       "\n",
       "   form_field46  form_field47  form_field48  form_field49  form_field50  \n",
       "0           0.0      0.693147      5.765581      0.755896      0.043380  \n",
       "1           0.0      0.693147      5.860233      0.963359      0.279476  \n",
       "\n",
       "[2 rows x 50 columns]"
      ]
     },
     "execution_count": 55,
     "metadata": {},
     "output_type": "execute_result"
    }
   ],
   "source": [
    "X_.head(2)"
   ]
  },
  {
   "cell_type": "code",
   "execution_count": 56,
   "metadata": {
    "executionInfo": {
     "elapsed": 59835,
     "status": "ok",
     "timestamp": 1601416943894,
     "user": {
      "displayName": "Yusuf Qoyum",
      "photoUrl": "https://lh3.googleusercontent.com/a-/AOh14GiyMZDHMA83WHyx74m-go4USTgeDx8VJc5EZNmqAA=s64",
      "userId": "07920877335192967897"
     },
     "user_tz": -60
    },
    "id": "SAhjrJo2Ma6f"
   },
   "outputs": [],
   "source": [
    "we_test_new = fix_outlier(we_test_new)"
   ]
  },
  {
   "cell_type": "markdown",
   "metadata": {
    "id": "Ws7ZY0nzfAC4"
   },
   "source": [
    "Then we will try to normalize our dataset as much as possible using standardscaler function from sklearn."
   ]
  },
  {
   "cell_type": "code",
   "execution_count": 57,
   "metadata": {
    "executionInfo": {
     "elapsed": 59831,
     "status": "ok",
     "timestamp": 1601416943895,
     "user": {
      "displayName": "Yusuf Qoyum",
      "photoUrl": "https://lh3.googleusercontent.com/a-/AOh14GiyMZDHMA83WHyx74m-go4USTgeDx8VJc5EZNmqAA=s64",
      "userId": "07920877335192967897"
     },
     "user_tz": -60
    },
    "id": "OaNm3yxMeNRX"
   },
   "outputs": [],
   "source": [
    "from  sklearn.preprocessing import StandardScaler"
   ]
  },
  {
   "cell_type": "code",
   "execution_count": 58,
   "metadata": {
    "executionInfo": {
     "elapsed": 59827,
     "status": "ok",
     "timestamp": 1601416943897,
     "user": {
      "displayName": "Yusuf Qoyum",
      "photoUrl": "https://lh3.googleusercontent.com/a-/AOh14GiyMZDHMA83WHyx74m-go4USTgeDx8VJc5EZNmqAA=s64",
      "userId": "07920877335192967897"
     },
     "user_tz": -60
    },
    "id": "sxoSiAL8fbaO"
   },
   "outputs": [],
   "source": [
    "sc = StandardScaler()"
   ]
  },
  {
   "cell_type": "code",
   "execution_count": 59,
   "metadata": {
    "executionInfo": {
     "elapsed": 59822,
     "status": "ok",
     "timestamp": 1601416943898,
     "user": {
      "displayName": "Yusuf Qoyum",
      "photoUrl": "https://lh3.googleusercontent.com/a-/AOh14GiyMZDHMA83WHyx74m-go4USTgeDx8VJc5EZNmqAA=s64",
      "userId": "07920877335192967897"
     },
     "user_tz": -60
    },
    "id": "VWQMPHsch6_9"
   },
   "outputs": [],
   "source": [
    "X_test_now = sc.fit_transform(we_test_new)\n"
   ]
  },
  {
   "cell_type": "code",
   "execution_count": 60,
   "metadata": {
    "executionInfo": {
     "elapsed": 60465,
     "status": "ok",
     "timestamp": 1601416944554,
     "user": {
      "displayName": "Yusuf Qoyum",
      "photoUrl": "https://lh3.googleusercontent.com/a-/AOh14GiyMZDHMA83WHyx74m-go4USTgeDx8VJc5EZNmqAA=s64",
      "userId": "07920877335192967897"
     },
     "user_tz": -60
    },
    "id": "6M3NNYKkwkRV"
   },
   "outputs": [],
   "source": [
    "X__ = sc.fit_transform(X_)"
   ]
  },
  {
   "cell_type": "code",
   "execution_count": 61,
   "metadata": {
    "colab": {
     "base_uri": "https://localhost:8080/",
     "height": 251
    },
    "executionInfo": {
     "elapsed": 60421,
     "status": "ok",
     "timestamp": 1601416944555,
     "user": {
      "displayName": "Yusuf Qoyum",
      "photoUrl": "https://lh3.googleusercontent.com/a-/AOh14GiyMZDHMA83WHyx74m-go4USTgeDx8VJc5EZNmqAA=s64",
      "userId": "07920877335192967897"
     },
     "user_tz": -60
    },
    "id": "z7Gy2EHNymUf",
    "outputId": "a4882b05-ac72-4e21-fde6-4da4aa2bae63"
   },
   "outputs": [
    {
     "data": {
      "text/plain": [
       "array([[-0.29460103, -0.26504428,  0.92948597, ..., -0.11626753,\n",
       "         0.49647152, -0.76053211],\n",
       "       [-0.17972694,  0.58587229, -0.36878137, ..., -0.07421875,\n",
       "         0.84405755,  0.08978965],\n",
       "       [-1.23840766,  0.31413673,  1.68589789, ..., -0.11626753,\n",
       "         0.77413583, -0.87509082],\n",
       "       ...,\n",
       "       [ 0.07067413,  0.75877145, -0.72523482, ...,  0.49150322,\n",
       "         1.07066328, -0.37244543],\n",
       "       [-1.21425579, -0.90792401,  1.18674732, ..., -0.11626753,\n",
       "        -0.7699658 , -0.8916091 ],\n",
       "       [ 0.19469699,  0.16613991, -0.72523482, ...,  1.10498662,\n",
       "         1.55264951,  0.94795296]])"
      ]
     },
     "execution_count": 61,
     "metadata": {},
     "output_type": "execute_result"
    }
   ],
   "source": [
    "X__"
   ]
  },
  {
   "cell_type": "code",
   "execution_count": 62,
   "metadata": {
    "colab": {
     "base_uri": "https://localhost:8080/",
     "height": 251
    },
    "executionInfo": {
     "elapsed": 60385,
     "status": "ok",
     "timestamp": 1601416944555,
     "user": {
      "displayName": "Yusuf Qoyum",
      "photoUrl": "https://lh3.googleusercontent.com/a-/AOh14GiyMZDHMA83WHyx74m-go4USTgeDx8VJc5EZNmqAA=s64",
      "userId": "07920877335192967897"
     },
     "user_tz": -60
    },
    "id": "jJK40iuYiePQ",
    "outputId": "b6f4551c-c46c-4f32-f23f-441d09ae77a8"
   },
   "outputs": [
    {
     "data": {
      "text/plain": [
       "array([[-1.47132746, -0.11976388,  2.33874727, ..., -0.11258402,\n",
       "        -0.77161454, -0.87513391],\n",
       "       [-1.18242977,  1.54622162,  1.59953926, ..., -0.11258402,\n",
       "        -0.0926288 , -0.76109736],\n",
       "       [-0.02246849, -0.2990418 , -0.62302004, ..., -0.11258402,\n",
       "        -0.77161454, -0.35244128],\n",
       "       ...,\n",
       "       [-1.07518015, -0.89574474,  2.07134337, ..., -0.11258402,\n",
       "         2.16392183, -0.35244128],\n",
       "       [-0.88594933,  0.72332871,  0.78470621, ..., -1.19283235,\n",
       "         0.22190961, -0.83048337],\n",
       "       [-0.94488821,  0.1076522 ,  1.30052622, ..., -0.11258402,\n",
       "        -0.77161454,  0.28362108]])"
      ]
     },
     "execution_count": 62,
     "metadata": {},
     "output_type": "execute_result"
    }
   ],
   "source": [
    "X_test_now"
   ]
  },
  {
   "cell_type": "code",
   "execution_count": 63,
   "metadata": {
    "executionInfo": {
     "elapsed": 60380,
     "status": "ok",
     "timestamp": 1601416944556,
     "user": {
      "displayName": "Yusuf Qoyum",
      "photoUrl": "https://lh3.googleusercontent.com/a-/AOh14GiyMZDHMA83WHyx74m-go4USTgeDx8VJc5EZNmqAA=s64",
      "userId": "07920877335192967897"
     },
     "user_tz": -60
    },
    "id": "Ogr6AG4IP5z8"
   },
   "outputs": [],
   "source": [
    "data = pd.DataFrame(X__)"
   ]
  },
  {
   "cell_type": "code",
   "execution_count": 91,
   "metadata": {
    "colab": {
     "base_uri": "https://localhost:8080/",
     "height": 439
    },
    "executionInfo": {
     "elapsed": 60341,
     "status": "ok",
     "timestamp": 1601416944557,
     "user": {
      "displayName": "Yusuf Qoyum",
      "photoUrl": "https://lh3.googleusercontent.com/a-/AOh14GiyMZDHMA83WHyx74m-go4USTgeDx8VJc5EZNmqAA=s64",
      "userId": "07920877335192967897"
     },
     "user_tz": -60
    },
    "id": "mxJQBz2t-OCO",
    "outputId": "d17830b4-7f0f-4f72-f78c-8e072ad9dd82"
   },
   "outputs": [
    {
     "data": {
      "text/html": [
       "<div>\n",
       "<style scoped>\n",
       "    .dataframe tbody tr th:only-of-type {\n",
       "        vertical-align: middle;\n",
       "    }\n",
       "\n",
       "    .dataframe tbody tr th {\n",
       "        vertical-align: top;\n",
       "    }\n",
       "\n",
       "    .dataframe thead th {\n",
       "        text-align: right;\n",
       "    }\n",
       "</style>\n",
       "<table border=\"1\" class=\"dataframe\">\n",
       "  <thead>\n",
       "    <tr style=\"text-align: right;\">\n",
       "      <th></th>\n",
       "      <th>0</th>\n",
       "      <th>1</th>\n",
       "      <th>2</th>\n",
       "      <th>3</th>\n",
       "      <th>4</th>\n",
       "      <th>5</th>\n",
       "      <th>6</th>\n",
       "      <th>7</th>\n",
       "      <th>8</th>\n",
       "      <th>9</th>\n",
       "      <th>...</th>\n",
       "      <th>41</th>\n",
       "      <th>42</th>\n",
       "      <th>43</th>\n",
       "      <th>44</th>\n",
       "      <th>45</th>\n",
       "      <th>46</th>\n",
       "      <th>47</th>\n",
       "      <th>48</th>\n",
       "      <th>49</th>\n",
       "      <th>Applicant_ID</th>\n",
       "    </tr>\n",
       "  </thead>\n",
       "  <tbody>\n",
       "    <tr>\n",
       "      <th>0</th>\n",
       "      <td>-0.294601</td>\n",
       "      <td>-0.265044</td>\n",
       "      <td>0.929486</td>\n",
       "      <td>-0.362723</td>\n",
       "      <td>-0.306011</td>\n",
       "      <td>-2.404226</td>\n",
       "      <td>0.974578</td>\n",
       "      <td>-0.628887</td>\n",
       "      <td>-0.041216</td>\n",
       "      <td>0.568450</td>\n",
       "      <td>...</td>\n",
       "      <td>0.251992</td>\n",
       "      <td>-0.609928</td>\n",
       "      <td>0.788286</td>\n",
       "      <td>0.0</td>\n",
       "      <td>-0.252885</td>\n",
       "      <td>-0.734577</td>\n",
       "      <td>-0.116268</td>\n",
       "      <td>0.496472</td>\n",
       "      <td>-0.760532</td>\n",
       "      <td>Apcnt_1000000</td>\n",
       "    </tr>\n",
       "    <tr>\n",
       "      <th>1</th>\n",
       "      <td>-0.179727</td>\n",
       "      <td>0.585872</td>\n",
       "      <td>-0.368781</td>\n",
       "      <td>-0.362723</td>\n",
       "      <td>-0.306011</td>\n",
       "      <td>-2.404226</td>\n",
       "      <td>-0.401880</td>\n",
       "      <td>-0.236237</td>\n",
       "      <td>0.453301</td>\n",
       "      <td>0.289247</td>\n",
       "      <td>...</td>\n",
       "      <td>0.028000</td>\n",
       "      <td>0.614652</td>\n",
       "      <td>-2.056550</td>\n",
       "      <td>0.0</td>\n",
       "      <td>-0.252885</td>\n",
       "      <td>-0.734577</td>\n",
       "      <td>-0.074219</td>\n",
       "      <td>0.844058</td>\n",
       "      <td>0.089790</td>\n",
       "      <td>Apcnt_1000004</td>\n",
       "    </tr>\n",
       "    <tr>\n",
       "      <th>2</th>\n",
       "      <td>-1.238408</td>\n",
       "      <td>0.314137</td>\n",
       "      <td>1.685898</td>\n",
       "      <td>-0.362723</td>\n",
       "      <td>2.908902</td>\n",
       "      <td>0.299041</td>\n",
       "      <td>-0.367142</td>\n",
       "      <td>0.145691</td>\n",
       "      <td>-2.075161</td>\n",
       "      <td>0.130358</td>\n",
       "      <td>...</td>\n",
       "      <td>-0.443852</td>\n",
       "      <td>1.446518</td>\n",
       "      <td>1.168198</td>\n",
       "      <td>0.0</td>\n",
       "      <td>-0.252885</td>\n",
       "      <td>-0.734577</td>\n",
       "      <td>-0.116268</td>\n",
       "      <td>0.774136</td>\n",
       "      <td>-0.875091</td>\n",
       "      <td>Apcnt_1000008</td>\n",
       "    </tr>\n",
       "    <tr>\n",
       "      <th>3</th>\n",
       "      <td>-0.666742</td>\n",
       "      <td>-0.566742</td>\n",
       "      <td>-0.032746</td>\n",
       "      <td>-0.362723</td>\n",
       "      <td>-0.306011</td>\n",
       "      <td>0.417029</td>\n",
       "      <td>0.276347</td>\n",
       "      <td>-0.383562</td>\n",
       "      <td>-0.086757</td>\n",
       "      <td>0.355877</td>\n",
       "      <td>...</td>\n",
       "      <td>0.509187</td>\n",
       "      <td>-0.609928</td>\n",
       "      <td>0.657902</td>\n",
       "      <td>0.0</td>\n",
       "      <td>-0.252885</td>\n",
       "      <td>-0.734577</td>\n",
       "      <td>-0.673965</td>\n",
       "      <td>0.083650</td>\n",
       "      <td>-0.630499</td>\n",
       "      <td>Apcnt_1000012</td>\n",
       "    </tr>\n",
       "    <tr>\n",
       "      <th>4</th>\n",
       "      <td>-0.678485</td>\n",
       "      <td>0.770229</td>\n",
       "      <td>0.532403</td>\n",
       "      <td>-0.362723</td>\n",
       "      <td>-0.306011</td>\n",
       "      <td>-0.699683</td>\n",
       "      <td>-1.197964</td>\n",
       "      <td>-0.721480</td>\n",
       "      <td>-0.830609</td>\n",
       "      <td>-0.073433</td>\n",
       "      <td>...</td>\n",
       "      <td>-0.089054</td>\n",
       "      <td>1.024096</td>\n",
       "      <td>-0.668321</td>\n",
       "      <td>0.0</td>\n",
       "      <td>-0.252885</td>\n",
       "      <td>-0.734577</td>\n",
       "      <td>-0.636746</td>\n",
       "      <td>0.716164</td>\n",
       "      <td>-0.756069</td>\n",
       "      <td>Apcnt_1000016</td>\n",
       "    </tr>\n",
       "    <tr>\n",
       "      <th>...</th>\n",
       "      <td>...</td>\n",
       "      <td>...</td>\n",
       "      <td>...</td>\n",
       "      <td>...</td>\n",
       "      <td>...</td>\n",
       "      <td>...</td>\n",
       "      <td>...</td>\n",
       "      <td>...</td>\n",
       "      <td>...</td>\n",
       "      <td>...</td>\n",
       "      <td>...</td>\n",
       "      <td>...</td>\n",
       "      <td>...</td>\n",
       "      <td>...</td>\n",
       "      <td>...</td>\n",
       "      <td>...</td>\n",
       "      <td>...</td>\n",
       "      <td>...</td>\n",
       "      <td>...</td>\n",
       "      <td>...</td>\n",
       "      <td>...</td>\n",
       "    </tr>\n",
       "    <tr>\n",
       "      <th>55995</th>\n",
       "      <td>1.383400</td>\n",
       "      <td>-1.016932</td>\n",
       "      <td>-0.725235</td>\n",
       "      <td>-0.362723</td>\n",
       "      <td>-0.306011</td>\n",
       "      <td>0.739204</td>\n",
       "      <td>0.916967</td>\n",
       "      <td>0.974329</td>\n",
       "      <td>0.616947</td>\n",
       "      <td>0.673467</td>\n",
       "      <td>...</td>\n",
       "      <td>-1.026246</td>\n",
       "      <td>0.731980</td>\n",
       "      <td>0.877796</td>\n",
       "      <td>0.0</td>\n",
       "      <td>-0.252885</td>\n",
       "      <td>1.361327</td>\n",
       "      <td>0.158281</td>\n",
       "      <td>-0.769966</td>\n",
       "      <td>-0.137385</td>\n",
       "      <td>Apcnt_999968</td>\n",
       "    </tr>\n",
       "    <tr>\n",
       "      <th>55996</th>\n",
       "      <td>-0.737304</td>\n",
       "      <td>2.361915</td>\n",
       "      <td>0.097417</td>\n",
       "      <td>-0.362723</td>\n",
       "      <td>-0.306011</td>\n",
       "      <td>0.299041</td>\n",
       "      <td>-0.384356</td>\n",
       "      <td>0.145691</td>\n",
       "      <td>0.125321</td>\n",
       "      <td>0.230610</td>\n",
       "      <td>...</td>\n",
       "      <td>-0.020345</td>\n",
       "      <td>1.503607</td>\n",
       "      <td>-0.326089</td>\n",
       "      <td>0.0</td>\n",
       "      <td>-0.252885</td>\n",
       "      <td>1.361327</td>\n",
       "      <td>-0.116268</td>\n",
       "      <td>-0.769966</td>\n",
       "      <td>-0.350075</td>\n",
       "      <td>Apcnt_999972</td>\n",
       "    </tr>\n",
       "    <tr>\n",
       "      <th>55997</th>\n",
       "      <td>0.070674</td>\n",
       "      <td>0.758771</td>\n",
       "      <td>-0.725235</td>\n",
       "      <td>-0.362723</td>\n",
       "      <td>-0.306011</td>\n",
       "      <td>0.305204</td>\n",
       "      <td>0.379049</td>\n",
       "      <td>0.916536</td>\n",
       "      <td>-0.156451</td>\n",
       "      <td>0.050658</td>\n",
       "      <td>...</td>\n",
       "      <td>0.664371</td>\n",
       "      <td>-0.288982</td>\n",
       "      <td>-0.596807</td>\n",
       "      <td>0.0</td>\n",
       "      <td>-0.252885</td>\n",
       "      <td>1.361327</td>\n",
       "      <td>0.491503</td>\n",
       "      <td>1.070663</td>\n",
       "      <td>-0.372445</td>\n",
       "      <td>Apcnt_999980</td>\n",
       "    </tr>\n",
       "    <tr>\n",
       "      <th>55998</th>\n",
       "      <td>-1.214256</td>\n",
       "      <td>-0.907924</td>\n",
       "      <td>1.186747</td>\n",
       "      <td>1.859171</td>\n",
       "      <td>-0.306011</td>\n",
       "      <td>0.299041</td>\n",
       "      <td>0.347211</td>\n",
       "      <td>0.145691</td>\n",
       "      <td>-2.075161</td>\n",
       "      <td>0.347276</td>\n",
       "      <td>...</td>\n",
       "      <td>1.535818</td>\n",
       "      <td>-1.839445</td>\n",
       "      <td>0.756037</td>\n",
       "      <td>0.0</td>\n",
       "      <td>-0.252885</td>\n",
       "      <td>-0.734577</td>\n",
       "      <td>-0.116268</td>\n",
       "      <td>-0.769966</td>\n",
       "      <td>-0.891609</td>\n",
       "      <td>Apcnt_999988</td>\n",
       "    </tr>\n",
       "    <tr>\n",
       "      <th>55999</th>\n",
       "      <td>0.194697</td>\n",
       "      <td>0.166140</td>\n",
       "      <td>-0.725235</td>\n",
       "      <td>-0.362723</td>\n",
       "      <td>-0.306011</td>\n",
       "      <td>0.262773</td>\n",
       "      <td>0.057488</td>\n",
       "      <td>-0.206322</td>\n",
       "      <td>0.779111</td>\n",
       "      <td>0.431350</td>\n",
       "      <td>...</td>\n",
       "      <td>-1.026246</td>\n",
       "      <td>1.106596</td>\n",
       "      <td>-1.562403</td>\n",
       "      <td>0.0</td>\n",
       "      <td>-0.252885</td>\n",
       "      <td>-0.734577</td>\n",
       "      <td>1.104987</td>\n",
       "      <td>1.552650</td>\n",
       "      <td>0.947953</td>\n",
       "      <td>Apcnt_999996</td>\n",
       "    </tr>\n",
       "  </tbody>\n",
       "</table>\n",
       "<p>56000 rows × 51 columns</p>\n",
       "</div>"
      ],
      "text/plain": [
       "              0         1         2         3         4         5         6  \\\n",
       "0     -0.294601 -0.265044  0.929486 -0.362723 -0.306011 -2.404226  0.974578   \n",
       "1     -0.179727  0.585872 -0.368781 -0.362723 -0.306011 -2.404226 -0.401880   \n",
       "2     -1.238408  0.314137  1.685898 -0.362723  2.908902  0.299041 -0.367142   \n",
       "3     -0.666742 -0.566742 -0.032746 -0.362723 -0.306011  0.417029  0.276347   \n",
       "4     -0.678485  0.770229  0.532403 -0.362723 -0.306011 -0.699683 -1.197964   \n",
       "...         ...       ...       ...       ...       ...       ...       ...   \n",
       "55995  1.383400 -1.016932 -0.725235 -0.362723 -0.306011  0.739204  0.916967   \n",
       "55996 -0.737304  2.361915  0.097417 -0.362723 -0.306011  0.299041 -0.384356   \n",
       "55997  0.070674  0.758771 -0.725235 -0.362723 -0.306011  0.305204  0.379049   \n",
       "55998 -1.214256 -0.907924  1.186747  1.859171 -0.306011  0.299041  0.347211   \n",
       "55999  0.194697  0.166140 -0.725235 -0.362723 -0.306011  0.262773  0.057488   \n",
       "\n",
       "              7         8         9  ...        41        42        43   44  \\\n",
       "0     -0.628887 -0.041216  0.568450  ...  0.251992 -0.609928  0.788286  0.0   \n",
       "1     -0.236237  0.453301  0.289247  ...  0.028000  0.614652 -2.056550  0.0   \n",
       "2      0.145691 -2.075161  0.130358  ... -0.443852  1.446518  1.168198  0.0   \n",
       "3     -0.383562 -0.086757  0.355877  ...  0.509187 -0.609928  0.657902  0.0   \n",
       "4     -0.721480 -0.830609 -0.073433  ... -0.089054  1.024096 -0.668321  0.0   \n",
       "...         ...       ...       ...  ...       ...       ...       ...  ...   \n",
       "55995  0.974329  0.616947  0.673467  ... -1.026246  0.731980  0.877796  0.0   \n",
       "55996  0.145691  0.125321  0.230610  ... -0.020345  1.503607 -0.326089  0.0   \n",
       "55997  0.916536 -0.156451  0.050658  ...  0.664371 -0.288982 -0.596807  0.0   \n",
       "55998  0.145691 -2.075161  0.347276  ...  1.535818 -1.839445  0.756037  0.0   \n",
       "55999 -0.206322  0.779111  0.431350  ... -1.026246  1.106596 -1.562403  0.0   \n",
       "\n",
       "             45        46        47        48        49   Applicant_ID  \n",
       "0     -0.252885 -0.734577 -0.116268  0.496472 -0.760532  Apcnt_1000000  \n",
       "1     -0.252885 -0.734577 -0.074219  0.844058  0.089790  Apcnt_1000004  \n",
       "2     -0.252885 -0.734577 -0.116268  0.774136 -0.875091  Apcnt_1000008  \n",
       "3     -0.252885 -0.734577 -0.673965  0.083650 -0.630499  Apcnt_1000012  \n",
       "4     -0.252885 -0.734577 -0.636746  0.716164 -0.756069  Apcnt_1000016  \n",
       "...         ...       ...       ...       ...       ...            ...  \n",
       "55995 -0.252885  1.361327  0.158281 -0.769966 -0.137385   Apcnt_999968  \n",
       "55996 -0.252885  1.361327 -0.116268 -0.769966 -0.350075   Apcnt_999972  \n",
       "55997 -0.252885  1.361327  0.491503  1.070663 -0.372445   Apcnt_999980  \n",
       "55998 -0.252885 -0.734577 -0.116268 -0.769966 -0.891609   Apcnt_999988  \n",
       "55999 -0.252885 -0.734577  1.104987  1.552650  0.947953   Apcnt_999996  \n",
       "\n",
       "[56000 rows x 51 columns]"
      ]
     },
     "execution_count": 91,
     "metadata": {},
     "output_type": "execute_result"
    }
   ],
   "source": [
    "data"
   ]
  },
  {
   "cell_type": "code",
   "execution_count": 65,
   "metadata": {
    "executionInfo": {
     "elapsed": 60333,
     "status": "ok",
     "timestamp": 1601416944557,
     "user": {
      "displayName": "Yusuf Qoyum",
      "photoUrl": "https://lh3.googleusercontent.com/a-/AOh14GiyMZDHMA83WHyx74m-go4USTgeDx8VJc5EZNmqAA=s64",
      "userId": "07920877335192967897"
     },
     "user_tz": -60
    },
    "id": "KvEaxLu6P5xI"
   },
   "outputs": [],
   "source": [
    "data['Applicant_ID'] = app_id"
   ]
  },
  {
   "cell_type": "code",
   "execution_count": 112,
   "metadata": {},
   "outputs": [],
   "source": [
    "from sklearn.pipeline import Pipeline\n",
    "from sklearn.linear_model import LogisticRegression"
   ]
  },
  {
   "cell_type": "code",
   "execution_count": 113,
   "metadata": {
    "executionInfo": {
     "elapsed": 60318,
     "status": "ok",
     "timestamp": 1601416944558,
     "user": {
      "displayName": "Yusuf Qoyum",
      "photoUrl": "https://lh3.googleusercontent.com/a-/AOh14GiyMZDHMA83WHyx74m-go4USTgeDx8VJc5EZNmqAA=s64",
      "userId": "07920877335192967897"
     },
     "user_tz": -60
    },
    "id": "WbK9CLKndFX3"
   },
   "outputs": [],
   "source": [
    "from sklearn.model_selection import train_test_split\n",
    "\n",
    "X_train, X_test, y_train, y_test = train_test_split(data,y, test_size=0.2, random_state=60)"
   ]
  },
  {
   "cell_type": "code",
   "execution_count": 129,
   "metadata": {},
   "outputs": [],
   "source": [
    "pipeNB = Pipeline([\n",
    "      ('sc', StandardScaler()),\n",
    "      ('model', LogisticRegression())\n",
    "])"
   ]
  },
  {
   "cell_type": "code",
   "execution_count": 130,
   "metadata": {
    "executionInfo": {
     "elapsed": 60311,
     "status": "ok",
     "timestamp": 1601416944559,
     "user": {
      "displayName": "Yusuf Qoyum",
      "photoUrl": "https://lh3.googleusercontent.com/a-/AOh14GiyMZDHMA83WHyx74m-go4USTgeDx8VJc5EZNmqAA=s64",
      "userId": "07920877335192967897"
     },
     "user_tz": -60
    },
    "id": "wRQIk9GqeUwq"
   },
   "outputs": [],
   "source": [
    "X_train_drop = X_train.drop(['Applicant_ID'], axis=1)\n",
    "X_test_drop = X_test.drop(['Applicant_ID'], axis=1)"
   ]
  },
  {
   "cell_type": "code",
   "execution_count": null,
   "metadata": {},
   "outputs": [],
   "source": []
  },
  {
   "cell_type": "code",
   "execution_count": 131,
   "metadata": {
    "executionInfo": {
     "elapsed": 60304,
     "status": "ok",
     "timestamp": 1601416944560,
     "user": {
      "displayName": "Yusuf Qoyum",
      "photoUrl": "https://lh3.googleusercontent.com/a-/AOh14GiyMZDHMA83WHyx74m-go4USTgeDx8VJc5EZNmqAA=s64",
      "userId": "07920877335192967897"
     },
     "user_tz": -60
    },
    "id": "jxcMdCWHZhZ2"
   },
   "outputs": [],
   "source": [
    "X_train_scale = sc.fit_transform(X_train_drop)"
   ]
  },
  {
   "cell_type": "code",
   "execution_count": null,
   "metadata": {
    "executionInfo": {
     "elapsed": 60294,
     "status": "ok",
     "timestamp": 1601416944561,
     "user": {
      "displayName": "Yusuf Qoyum",
      "photoUrl": "https://lh3.googleusercontent.com/a-/AOh14GiyMZDHMA83WHyx74m-go4USTgeDx8VJc5EZNmqAA=s64",
      "userId": "07920877335192967897"
     },
     "user_tz": -60
    },
    "id": "jrL_m9HWea9X"
   },
   "outputs": [],
   "source": []
  },
  {
   "cell_type": "code",
   "execution_count": 132,
   "metadata": {
    "executionInfo": {
     "elapsed": 60896,
     "status": "ok",
     "timestamp": 1601416945175,
     "user": {
      "displayName": "Yusuf Qoyum",
      "photoUrl": "https://lh3.googleusercontent.com/a-/AOh14GiyMZDHMA83WHyx74m-go4USTgeDx8VJc5EZNmqAA=s64",
      "userId": "07920877335192967897"
     },
     "user_tz": -60
    },
    "id": "s0q2D-KIlpmo"
   },
   "outputs": [
    {
     "data": {
      "text/plain": [
       "Pipeline(steps=[('sc', StandardScaler()), ('model', LogisticRegression())])"
      ]
     },
     "execution_count": 132,
     "metadata": {},
     "output_type": "execute_result"
    }
   ],
   "source": [
    "#model = LogisticRegression()\n",
    "pipeNB.fit(X_train_scale, y_train)"
   ]
  },
  {
   "cell_type": "code",
   "execution_count": 133,
   "metadata": {
    "executionInfo": {
     "elapsed": 60888,
     "status": "ok",
     "timestamp": 1601416945176,
     "user": {
      "displayName": "Yusuf Qoyum",
      "photoUrl": "https://lh3.googleusercontent.com/a-/AOh14GiyMZDHMA83WHyx74m-go4USTgeDx8VJc5EZNmqAA=s64",
      "userId": "07920877335192967897"
     },
     "user_tz": -60
    },
    "id": "eyH2Q-5Ym4DS"
   },
   "outputs": [],
   "source": [
    "y_pred = pipeNB.predict(X_test_drop)"
   ]
  },
  {
   "cell_type": "code",
   "execution_count": 134,
   "metadata": {
    "colab": {
     "base_uri": "https://localhost:8080/",
     "height": 35
    },
    "executionInfo": {
     "elapsed": 60846,
     "status": "ok",
     "timestamp": 1601416945177,
     "user": {
      "displayName": "Yusuf Qoyum",
      "photoUrl": "https://lh3.googleusercontent.com/a-/AOh14GiyMZDHMA83WHyx74m-go4USTgeDx8VJc5EZNmqAA=s64",
      "userId": "07920877335192967897"
     },
     "user_tz": -60
    },
    "id": "G3fU7zcwuslN",
    "outputId": "ffe2f416-4e7b-4514-fc17-7c97cadd945c"
   },
   "outputs": [
    {
     "data": {
      "text/plain": [
       "array([0, 0, 0, ..., 0, 0, 0])"
      ]
     },
     "execution_count": 134,
     "metadata": {},
     "output_type": "execute_result"
    }
   ],
   "source": [
    "y_pred"
   ]
  },
  {
   "cell_type": "code",
   "execution_count": 135,
   "metadata": {
    "executionInfo": {
     "elapsed": 60842,
     "status": "ok",
     "timestamp": 1601416945179,
     "user": {
      "displayName": "Yusuf Qoyum",
      "photoUrl": "https://lh3.googleusercontent.com/a-/AOh14GiyMZDHMA83WHyx74m-go4USTgeDx8VJc5EZNmqAA=s64",
      "userId": "07920877335192967897"
     },
     "user_tz": -60
    },
    "id": "L8ixhcMRo53B"
   },
   "outputs": [],
   "source": [
    "from sklearn.metrics import classification_report, confusion_matrix, accuracy_score"
   ]
  },
  {
   "cell_type": "code",
   "execution_count": 136,
   "metadata": {
    "colab": {
     "base_uri": "https://localhost:8080/",
     "height": 233
    },
    "executionInfo": {
     "elapsed": 60820,
     "status": "ok",
     "timestamp": 1601416945180,
     "user": {
      "displayName": "Yusuf Qoyum",
      "photoUrl": "https://lh3.googleusercontent.com/a-/AOh14GiyMZDHMA83WHyx74m-go4USTgeDx8VJc5EZNmqAA=s64",
      "userId": "07920877335192967897"
     },
     "user_tz": -60
    },
    "id": "dAS9YedroF5Y",
    "outputId": "df6e011d-0042-475e-d47e-865e731301c2"
   },
   "outputs": [
    {
     "name": "stdout",
     "output_type": "stream",
     "text": [
      "[[7872  608]\n",
      " [1558 1162]]\n",
      "              precision    recall  f1-score   support\n",
      "\n",
      "           0       0.83      0.93      0.88      8480\n",
      "           1       0.66      0.43      0.52      2720\n",
      "\n",
      "    accuracy                           0.81     11200\n",
      "   macro avg       0.75      0.68      0.70     11200\n",
      "weighted avg       0.79      0.81      0.79     11200\n",
      "\n",
      "0.8066071428571429\n"
     ]
    }
   ],
   "source": [
    "print(confusion_matrix(y_test,y_pred))\n",
    "print(classification_report(y_test,y_pred))\n",
    "print(accuracy_score(y_test, y_pred))"
   ]
  },
  {
   "cell_type": "code",
   "execution_count": 137,
   "metadata": {
    "colab": {
     "base_uri": "https://localhost:8080/",
     "height": 35
    },
    "executionInfo": {
     "elapsed": 60788,
     "status": "ok",
     "timestamp": 1601416945181,
     "user": {
      "displayName": "Yusuf Qoyum",
      "photoUrl": "https://lh3.googleusercontent.com/a-/AOh14GiyMZDHMA83WHyx74m-go4USTgeDx8VJc5EZNmqAA=s64",
      "userId": "07920877335192967897"
     },
     "user_tz": -60
    },
    "id": "rAQKG0lTw23s",
    "outputId": "6146a64b-7dfa-4f50-a325-9213e37344e8"
   },
   "outputs": [
    {
     "data": {
      "text/plain": [
       "array([0, 0, 0, ..., 0, 0, 0])"
      ]
     },
     "execution_count": 137,
     "metadata": {},
     "output_type": "execute_result"
    }
   ],
   "source": [
    "y_pred"
   ]
  },
  {
   "cell_type": "code",
   "execution_count": 138,
   "metadata": {
    "executionInfo": {
     "elapsed": 60786,
     "status": "ok",
     "timestamp": 1601416945185,
     "user": {
      "displayName": "Yusuf Qoyum",
      "photoUrl": "https://lh3.googleusercontent.com/a-/AOh14GiyMZDHMA83WHyx74m-go4USTgeDx8VJc5EZNmqAA=s64",
      "userId": "07920877335192967897"
     },
     "user_tz": -60
    },
    "id": "FHfBRMqcyf1t"
   },
   "outputs": [],
   "source": [
    "result = pd.DataFrame(data={'Applicant_ID':X_test[\"Applicant_ID\"], 'Prediction': y_pred})\n"
   ]
  },
  {
   "cell_type": "code",
   "execution_count": 139,
   "metadata": {
    "colab": {
     "base_uri": "https://localhost:8080/",
     "height": 35
    },
    "executionInfo": {
     "elapsed": 60783,
     "status": "ok",
     "timestamp": 1601416945187,
     "user": {
      "displayName": "Yusuf Qoyum",
      "photoUrl": "https://lh3.googleusercontent.com/a-/AOh14GiyMZDHMA83WHyx74m-go4USTgeDx8VJc5EZNmqAA=s64",
      "userId": "07920877335192967897"
     },
     "user_tz": -60
    },
    "id": "289pqyW6bHgM",
    "outputId": "dcf973d0-4b15-4d16-85a6-f5255825537a"
   },
   "outputs": [
    {
     "data": {
      "text/plain": [
       "(44800, 50)"
      ]
     },
     "execution_count": 139,
     "metadata": {},
     "output_type": "execute_result"
    }
   ],
   "source": [
    "X_train_scale.shape"
   ]
  },
  {
   "cell_type": "code",
   "execution_count": 140,
   "metadata": {
    "colab": {
     "base_uri": "https://localhost:8080/",
     "height": 35
    },
    "executionInfo": {
     "elapsed": 60776,
     "status": "ok",
     "timestamp": 1601416945188,
     "user": {
      "displayName": "Yusuf Qoyum",
      "photoUrl": "https://lh3.googleusercontent.com/a-/AOh14GiyMZDHMA83WHyx74m-go4USTgeDx8VJc5EZNmqAA=s64",
      "userId": "07920877335192967897"
     },
     "user_tz": -60
    },
    "id": "AGVU_5iFblc5",
    "outputId": "6de7f4bd-0022-485b-f29d-688b0ca90028"
   },
   "outputs": [
    {
     "data": {
      "text/plain": [
       "(11200,)"
      ]
     },
     "execution_count": 140,
     "metadata": {},
     "output_type": "execute_result"
    }
   ],
   "source": [
    "y_pred.shape"
   ]
  },
  {
   "cell_type": "code",
   "execution_count": 141,
   "metadata": {
    "colab": {
     "base_uri": "https://localhost:8080/",
     "height": 204
    },
    "executionInfo": {
     "elapsed": 60756,
     "status": "ok",
     "timestamp": 1601416945190,
     "user": {
      "displayName": "Yusuf Qoyum",
      "photoUrl": "https://lh3.googleusercontent.com/a-/AOh14GiyMZDHMA83WHyx74m-go4USTgeDx8VJc5EZNmqAA=s64",
      "userId": "07920877335192967897"
     },
     "user_tz": -60
    },
    "id": "10H-jmoQbreo",
    "outputId": "0f139760-892c-484d-f986-3e28cb83061b"
   },
   "outputs": [
    {
     "data": {
      "text/html": [
       "<div>\n",
       "<style scoped>\n",
       "    .dataframe tbody tr th:only-of-type {\n",
       "        vertical-align: middle;\n",
       "    }\n",
       "\n",
       "    .dataframe tbody tr th {\n",
       "        vertical-align: top;\n",
       "    }\n",
       "\n",
       "    .dataframe thead th {\n",
       "        text-align: right;\n",
       "    }\n",
       "</style>\n",
       "<table border=\"1\" class=\"dataframe\">\n",
       "  <thead>\n",
       "    <tr style=\"text-align: right;\">\n",
       "      <th></th>\n",
       "      <th>Applicant_ID</th>\n",
       "      <th>Prediction</th>\n",
       "    </tr>\n",
       "  </thead>\n",
       "  <tbody>\n",
       "    <tr>\n",
       "      <th>51609</th>\n",
       "      <td>Apcnt_975192</td>\n",
       "      <td>0</td>\n",
       "    </tr>\n",
       "    <tr>\n",
       "      <th>52670</th>\n",
       "      <td>Apcnt_981212</td>\n",
       "      <td>0</td>\n",
       "    </tr>\n",
       "    <tr>\n",
       "      <th>7797</th>\n",
       "      <td>Apcnt_1044580</td>\n",
       "      <td>0</td>\n",
       "    </tr>\n",
       "    <tr>\n",
       "      <th>9267</th>\n",
       "      <td>Apcnt_1053024</td>\n",
       "      <td>0</td>\n",
       "    </tr>\n",
       "    <tr>\n",
       "      <th>18210</th>\n",
       "      <td>Apcnt_1104520</td>\n",
       "      <td>0</td>\n",
       "    </tr>\n",
       "  </tbody>\n",
       "</table>\n",
       "</div>"
      ],
      "text/plain": [
       "        Applicant_ID  Prediction\n",
       "51609   Apcnt_975192           0\n",
       "52670   Apcnt_981212           0\n",
       "7797   Apcnt_1044580           0\n",
       "9267   Apcnt_1053024           0\n",
       "18210  Apcnt_1104520           0"
      ]
     },
     "execution_count": 141,
     "metadata": {},
     "output_type": "execute_result"
    }
   ],
   "source": [
    "result.head()"
   ]
  },
  {
   "cell_type": "code",
   "execution_count": 144,
   "metadata": {},
   "outputs": [
    {
     "name": "stdout",
     "output_type": "stream",
     "text": [
      "List of possible accuracy: [0.8030357142857143, 0.8035714285714286, 0.7948214285714286, 0.8023214285714285, 0.8003571428571429, 0.7992857142857143, 0.8003571428571429, 0.8073214285714285, 0.8019642857142857, 0.7980357142857143]\n",
      "\n",
      "Maximum Accuracy That can be obtained from this model is: 80.73214285714285 %\n",
      "\n",
      "Minimum Accuracy: 79.48214285714286 %\n",
      "\n",
      "Overall Accuracy: 80.11071428571428 %\n",
      "\n",
      "Standard Deviation is: 0.0033994297240830746\n"
     ]
    }
   ],
   "source": [
    "from statistics import mean, stdev \n",
    "from sklearn.model_selection import StratifiedKFold \n",
    "\n",
    "\n",
    "accuracy = []\n",
    "skf = StratifiedKFold(n_splits=10, shuffle=True, random_state=100) \n",
    "skf.get_n_splits(X,y) \n",
    "\n",
    "for train_index, test_index in skf.split(X, y):\n",
    "  X_train_fold, X_test_fold = X.iloc[train_index], X.iloc[test_index] \n",
    "  y_train_fold, y_test_fold = y.iloc[train_index], y.iloc[test_index]\n",
    "\n",
    "  pipeNB.fit(X_train_fold, y_train_fold)\n",
    "  result = pipeNB.score(X_test_fold, y_test_fold)\n",
    "  accuracy.append(result)\n",
    "\n",
    "\n",
    "# Print the output\n",
    "print('List of possible accuracy:', accuracy) \n",
    "print('\\nMaximum Accuracy That can be obtained from this model is:', \n",
    "  max(accuracy)*100, '%') \n",
    "print('\\nMinimum Accuracy:', \n",
    "  min(accuracy)*100, '%') \n",
    "print('\\nOverall Accuracy:', \n",
    "  mean(accuracy)*100, '%') \n",
    "print('\\nStandard Deviation is:', stdev(accuracy)) "
   ]
  },
  {
   "cell_type": "code",
   "execution_count": 143,
   "metadata": {
    "colab": {
     "base_uri": "https://localhost:8080/",
     "height": 17
    },
    "executionInfo": {
     "elapsed": 811,
     "status": "ok",
     "timestamp": 1601419553212,
     "user": {
      "displayName": "Yusuf Qoyum",
      "photoUrl": "https://lh3.googleusercontent.com/a-/AOh14GiyMZDHMA83WHyx74m-go4USTgeDx8VJc5EZNmqAA=s64",
      "userId": "07920877335192967897"
     },
     "user_tz": -60
    },
    "id": "E6xpDGIp6mOR",
    "outputId": "7d30030c-628b-4f01-86bf-b135561a73cc"
   },
   "outputs": [],
   "source": [
    "result.to_csv('result.csv', index=False) "
   ]
  },
  {
   "cell_type": "code",
   "execution_count": null,
   "metadata": {},
   "outputs": [],
   "source": []
  }
 ],
 "metadata": {
  "colab": {
   "authorship_tag": "ABX9TyMVj2Q02Bd9zT5OrZVTu1zZ",
   "collapsed_sections": [],
   "mount_file_id": "1_GlbyTvsClbbxrUM8JxNniWA3y32sRZ8",
   "name": "kowope_mart.ipynb",
   "provenance": []
  },
  "kernelspec": {
   "display_name": "Python 3",
   "language": "python",
   "name": "python3"
  },
  "language_info": {
   "codemirror_mode": {
    "name": "ipython",
    "version": 3
   },
   "file_extension": ".py",
   "mimetype": "text/x-python",
   "name": "python",
   "nbconvert_exporter": "python",
   "pygments_lexer": "ipython3",
   "version": "3.8.2"
  }
 },
 "nbformat": 4,
 "nbformat_minor": 4
}
